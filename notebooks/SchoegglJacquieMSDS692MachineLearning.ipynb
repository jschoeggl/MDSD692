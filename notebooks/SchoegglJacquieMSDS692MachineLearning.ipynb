{
 "cells": [
  {
   "cell_type": "markdown",
   "metadata": {},
   "source": [
    "# Machine Learning\n",
    "\n",
    "Here's where the fun stuff starts.  We can use linear models to tell us more information about the data and make predictions on future data.\n",
    "\n",
    "First off, we need to load the necessary packages and read in the needed data."
   ]
  },
  {
   "cell_type": "code",
   "execution_count": 1,
   "metadata": {},
   "outputs": [
    {
     "name": "stderr",
     "output_type": "stream",
     "text": [
      "Loading required package: lattice\n",
      "Loading required package: survival\n",
      "Loading required package: Formula\n",
      "Loading required package: ggplot2\n",
      "\n",
      "Attaching package: ‘Hmisc’\n",
      "\n",
      "The following objects are masked from ‘package:base’:\n",
      "\n",
      "    format.pval, units\n",
      "\n"
     ]
    }
   ],
   "source": [
    "#load packages\n",
    "library(Hmisc)\n",
    "library(ggplot2)\n",
    "#read in the data\n",
    "scores <- read.csv(file=\"scores.csv\", header=TRUE)\n",
    "incompletedScores <- read.csv(file=\"incompletedScores.csv\", header=TRUE)"
   ]
  },
  {
   "cell_type": "markdown",
   "metadata": {},
   "source": [
    "## Is there a Difference in Final Score Between Years?\n",
    "The first case to analyze is whether or not there is a difference in the final scores between different years.  Since we want to compare the means of multiple different sample sizes, we will use an ANOVA test.\n",
    "\n",
    "##### **H0**: There is no difference in the final score between years\n",
    "##### **HA**:  There is a difference in the final scores between years\n",
    "\n",
    "Results from ANOVA test are shown below."
   ]
  },
  {
   "cell_type": "code",
   "execution_count": 18,
   "metadata": {},
   "outputs": [
    {
     "data": {
      "text/plain": [
       "             Df Sum Sq Mean Sq F value Pr(>F)\n",
       "Year          1      2     2.0   0.007  0.936\n",
       "Residuals   420 128278   305.4               "
      ]
     },
     "metadata": {},
     "output_type": "display_data"
    }
   ],
   "source": [
    "#ANOVA\n",
    "yearANOVA <- aov(Total.after.SJ ~ Year, data = scores)\n",
    "summary(yearANOVA)"
   ]
  },
  {
   "cell_type": "markdown",
   "metadata": {},
   "source": [
    "The ANOVA test gives us a p-value of 0.936.  Since that is greater than 0.05, we will fail to reject the null hypothesis that there is no difference between final scores based on year."
   ]
  },
  {
   "cell_type": "markdown",
   "metadata": {},
   "source": [
    "## Is there a Difference in Final Score Between Divisions?\n",
    "The first case to analyze is whether or not there is a difference in the final scores of each division.  Since we want to compare the means of multiple different sample sizes, we will use an ANOVA test.\n",
    "\n",
    "##### **H0**: There is no difference in the final score between divisions\n",
    "##### **HA**:  There is a difference between final scores in divisions\n",
    "\n",
    "First, let's create a botplot of the data so we have a visual to go along with the ANOVA test."
   ]
  },
  {
   "cell_type": "code",
   "execution_count": 3,
   "metadata": {},
   "outputs": [
    {
     "data": {},
     "metadata": {},
     "output_type": "display_data"
    },
    {
     "data": {
      "image/png": "[encoded data removed]",
      "text/plain": [
       "plot without title"
      ]
     },
     "metadata": {},
     "output_type": "display_data"
    }
   ],
   "source": [
    "ggplot(scores, aes(x=Division, y=Total.after.SJ)) + geom_boxplot() +\n",
    "    scale_y_continuous(\"Final Score\") + \n",
    "    ggtitle(\"Final Scores by Division\")"
   ]
  },
  {
   "cell_type": "markdown",
   "metadata": {},
   "source": [
    "the `aov` command in r runs an ANOVA tests that can be used for further analysis."
   ]
  },
  {
   "cell_type": "code",
   "execution_count": 4,
   "metadata": {},
   "outputs": [
    {
     "data": {
      "text/plain": [
       "             Df Sum Sq Mean Sq F value  Pr(>F)   \n",
       "Division      5   5382  1076.5   3.644 0.00308 **\n",
       "Residuals   416 122898   295.4                   \n",
       "---\n",
       "Signif. codes:  0 ‘***’ 0.001 ‘**’ 0.01 ‘*’ 0.05 ‘.’ 0.1 ‘ ’ 1"
      ]
     },
     "metadata": {},
     "output_type": "display_data"
    }
   ],
   "source": [
    "#ANOVA\n",
    "anovaResults = aov(Total.after.SJ ~ Division, data = scores)\n",
    "summary(anovaResults)"
   ]
  },
  {
   "cell_type": "markdown",
   "metadata": {},
   "source": [
    "We can see that there is a F value of 3.644 and a p-value of 0.0308.  Since the p-value is less than 0.05, we can conclude that there is sufficient evidence that there is a difference in the means of the final scores of each division.  Therefore, we reject the null hypothesis and say that there is a statistically significant difference in final scores between divisions.\n",
    "\n",
    "But which divisions?  There are 6 divisions to compare, so we will need to do some more analysis to see if we can determine which groups are different from each other.  We will run a pairwise t test to compare the p-values for each combination of divisions."
   ]
  },
  {
   "cell_type": "code",
   "execution_count": 5,
   "metadata": {},
   "outputs": [
    {
     "data": {
      "text/plain": [
       "\n",
       "\tPairwise comparisons using t tests with pooled SD \n",
       "\n",
       "data:  scores$Total.after.SJ and scores$Division \n",
       "\n",
       "  A     H     J     M     R    \n",
       "H 0.036 -     -     -     -    \n",
       "J 1.000 1.000 -     -     -    \n",
       "M 1.000 0.009 0.321 -     -    \n",
       "R 1.000 1.000 1.000 1.000 -    \n",
       "Y 0.261 1.000 1.000 0.080 1.000\n",
       "\n",
       "P value adjustment method: bonferroni "
      ]
     },
     "metadata": {},
     "output_type": "display_data"
    }
   ],
   "source": [
    "pairwise.t.test(scores$Total.after.SJ,scores$Division, p.adjust=\"bonferroni\")"
   ]
  },
  {
   "cell_type": "markdown",
   "metadata": {},
   "source": [
    "We can see that there are 3 p-values less than 0.05: the difference between Amateur and Horse, the difference between Master and Horse, and the difference between Master and Youth.\n",
    "\n",
    "For further assurance that the results from the paired t-test are accurate, I also ran the Tukey test to compare the differences between the groups."
   ]
  },
  {
   "cell_type": "code",
   "execution_count": 6,
   "metadata": {},
   "outputs": [
    {
     "data": {
      "text/plain": [
       "  Tukey multiple comparisons of means\n",
       "    95% family-wise confidence level\n",
       "\n",
       "Fit: aov(formula = Total.after.SJ ~ Division, data = scores)\n",
       "\n",
       "$Division\n",
       "         diff        lwr        upr     p adj\n",
       "H-A -8.708620 -16.866201 -0.5510396 0.0286105\n",
       "J-A -4.791649 -12.252634  2.6693350 0.4419670\n",
       "M-A  1.449351  -6.739803  9.6385047 0.9959091\n",
       "R-A -3.541760 -12.775618  5.6920968 0.8820023\n",
       "Y-A -6.972872 -15.332813  1.3870700 0.1627834\n",
       "J-H  3.916971  -3.784500 11.6184417 0.6923895\n",
       "M-H 10.157971   1.749130 18.5668120 0.0078392\n",
       "R-H  5.166860  -4.262376 14.5960954 0.6196093\n",
       "Y-H  1.735749  -6.839505 10.3110030 0.9923360\n",
       "M-J  6.241000  -1.493906 13.9759061 0.1922564\n",
       "R-J  1.249889  -7.583607 10.0833846 0.9985936\n",
       "Y-J -2.181222 -10.096723  5.7342784 0.9693221\n",
       "R-M -4.991111 -14.447675  4.4654529 0.6573231\n",
       "Y-M -8.422222 -17.027517  0.1830730 0.0590744\n",
       "Y-R -3.431111 -13.035953  6.1737305 0.9101995\n"
      ]
     },
     "metadata": {},
     "output_type": "display_data"
    }
   ],
   "source": [
    "TukeyHSD(anovaResults, conf.level=0.95)"
   ]
  },
  {
   "cell_type": "markdown",
   "metadata": {},
   "source": [
    "In the results, we can see that the same 3 combinations show a p-value of less than 0.05.  While the values are not the same, they are within the same ballpark."
   ]
  },
  {
   "cell_type": "markdown",
   "metadata": {},
   "source": [
    "### Predict Final Total Score Given Dressage Score and Division\n",
    "\n",
    "Now comes the really fun part: predicting scores and placings given an initial dressage score and a division.\n",
    "\n",
    "The first step is to create a table of test data.  We specify the dressage score and the division the competitor is entered in.  This test data will be used to predict the final score and the probability of elimination."
   ]
  },
  {
   "cell_type": "code",
   "execution_count": 21,
   "metadata": {},
   "outputs": [
    {
     "data": {
      "text/html": [
       "<table>\n",
       "<thead><tr><th scope=col>Dr.Score</th><th scope=col>Division</th></tr></thead>\n",
       "<tbody>\n",
       "\t<tr><td>32.5</td><td>A   </td></tr>\n",
       "\t<tr><td>35.4</td><td>H   </td></tr>\n",
       "\t<tr><td>42.0</td><td>M   </td></tr>\n",
       "\t<tr><td>58.4</td><td>Y   </td></tr>\n",
       "\t<tr><td>19.9</td><td>J   </td></tr>\n",
       "\t<tr><td>23.5</td><td>H   </td></tr>\n",
       "\t<tr><td>21.6</td><td>R   </td></tr>\n",
       "\t<tr><td>33.1</td><td>A   </td></tr>\n",
       "</tbody>\n",
       "</table>\n"
      ],
      "text/latex": [
       "\\begin{tabular}{r|ll}\n",
       " Dr.Score & Division\\\\\n",
       "\\hline\n",
       "\t 32.5 & A   \\\\\n",
       "\t 35.4 & H   \\\\\n",
       "\t 42.0 & M   \\\\\n",
       "\t 58.4 & Y   \\\\\n",
       "\t 19.9 & J   \\\\\n",
       "\t 23.5 & H   \\\\\n",
       "\t 21.6 & R   \\\\\n",
       "\t 33.1 & A   \\\\\n",
       "\\end{tabular}\n"
      ],
      "text/markdown": [
       "\n",
       "Dr.Score | Division | \n",
       "|---|---|---|---|---|---|---|---|\n",
       "| 32.5 | A    | \n",
       "| 35.4 | H    | \n",
       "| 42.0 | M    | \n",
       "| 58.4 | Y    | \n",
       "| 19.9 | J    | \n",
       "| 23.5 | H    | \n",
       "| 21.6 | R    | \n",
       "| 33.1 | A    | \n",
       "\n",
       "\n"
      ],
      "text/plain": [
       "  Dr.Score Division\n",
       "1 32.5     A       \n",
       "2 35.4     H       \n",
       "3 42.0     M       \n",
       "4 58.4     Y       \n",
       "5 19.9     J       \n",
       "6 23.5     H       \n",
       "7 21.6     R       \n",
       "8 33.1     A       "
      ]
     },
     "metadata": {},
     "output_type": "display_data"
    }
   ],
   "source": [
    "testData <- data.frame(Dr.Score = c(32.5, 35.4, 42.0, 58.4, 19.9, 23.5, 21.6, 33.1), \n",
    "                       Division= c(\"A\", \"H\", \"M\", \"Y\", \"J\", \"H\", \"R\", \"A\"))\n",
    "testData"
   ]
  },
  {
   "cell_type": "markdown",
   "metadata": {},
   "source": [
    "Let's also create a test sample where the competitors have the same dressage score and are entered in different divisions."
   ]
  },
  {
   "cell_type": "code",
   "execution_count": 22,
   "metadata": {},
   "outputs": [
    {
     "data": {
      "text/html": [
       "<table>\n",
       "<thead><tr><th scope=col>Dr.Score</th><th scope=col>Division</th></tr></thead>\n",
       "<tbody>\n",
       "\t<tr><td>34.2</td><td>A   </td></tr>\n",
       "\t<tr><td>34.2</td><td>H   </td></tr>\n",
       "\t<tr><td>34.2</td><td>M   </td></tr>\n",
       "\t<tr><td>34.2</td><td>Y   </td></tr>\n",
       "\t<tr><td>34.2</td><td>J   </td></tr>\n",
       "\t<tr><td>34.2</td><td>R   </td></tr>\n",
       "</tbody>\n",
       "</table>\n"
      ],
      "text/latex": [
       "\\begin{tabular}{r|ll}\n",
       " Dr.Score & Division\\\\\n",
       "\\hline\n",
       "\t 34.2 & A   \\\\\n",
       "\t 34.2 & H   \\\\\n",
       "\t 34.2 & M   \\\\\n",
       "\t 34.2 & Y   \\\\\n",
       "\t 34.2 & J   \\\\\n",
       "\t 34.2 & R   \\\\\n",
       "\\end{tabular}\n"
      ],
      "text/markdown": [
       "\n",
       "Dr.Score | Division | \n",
       "|---|---|---|---|---|---|\n",
       "| 34.2 | A    | \n",
       "| 34.2 | H    | \n",
       "| 34.2 | M    | \n",
       "| 34.2 | Y    | \n",
       "| 34.2 | J    | \n",
       "| 34.2 | R    | \n",
       "\n",
       "\n"
      ],
      "text/plain": [
       "  Dr.Score Division\n",
       "1 34.2     A       \n",
       "2 34.2     H       \n",
       "3 34.2     M       \n",
       "4 34.2     Y       \n",
       "5 34.2     J       \n",
       "6 34.2     R       "
      ]
     },
     "metadata": {},
     "output_type": "display_data"
    }
   ],
   "source": [
    "sameDrScore <- data.frame(Dr.Score = rep_len(34.2, 6), \n",
    "                       Division= c(\"A\", \"H\", \"M\", \"Y\", \"J\", \"R\"))\n",
    "sameDrScore"
   ]
  },
  {
   "cell_type": "markdown",
   "metadata": {},
   "source": [
    "Now we can run the `predict` command to run the test data through the linear model we created above."
   ]
  },
  {
   "cell_type": "code",
   "execution_count": 23,
   "metadata": {},
   "outputs": [
    {
     "data": {
      "text/html": [
       "<table>\n",
       "<thead><tr><th scope=col>Dr.Score</th><th scope=col>Division</th><th scope=col>Estimated Final Score</th></tr></thead>\n",
       "<tbody>\n",
       "\t<tr><td>32.5    </td><td>A       </td><td>44.84689</td></tr>\n",
       "\t<tr><td>35.4    </td><td>H       </td><td>41.06583</td></tr>\n",
       "\t<tr><td>42.0    </td><td>M       </td><td>58.72603</td></tr>\n",
       "\t<tr><td>58.4    </td><td>Y       </td><td>73.80978</td></tr>\n",
       "\t<tr><td>19.9    </td><td>J       </td><td>21.64032</td></tr>\n",
       "\t<tr><td>23.5    </td><td>H       </td><td>25.20976</td></tr>\n",
       "\t<tr><td>21.6    </td><td>R       </td><td>26.84327</td></tr>\n",
       "\t<tr><td>33.1    </td><td>A       </td><td>45.64636</td></tr>\n",
       "</tbody>\n",
       "</table>\n"
      ],
      "text/latex": [
       "\\begin{tabular}{r|lll}\n",
       " Dr.Score & Division & Estimated Final Score\\\\\n",
       "\\hline\n",
       "\t 32.5     & A        & 44.84689\\\\\n",
       "\t 35.4     & H        & 41.06583\\\\\n",
       "\t 42.0     & M        & 58.72603\\\\\n",
       "\t 58.4     & Y        & 73.80978\\\\\n",
       "\t 19.9     & J        & 21.64032\\\\\n",
       "\t 23.5     & H        & 25.20976\\\\\n",
       "\t 21.6     & R        & 26.84327\\\\\n",
       "\t 33.1     & A        & 45.64636\\\\\n",
       "\\end{tabular}\n"
      ],
      "text/markdown": [
       "\n",
       "Dr.Score | Division | Estimated Final Score | \n",
       "|---|---|---|---|---|---|---|---|\n",
       "| 32.5     | A        | 44.84689 | \n",
       "| 35.4     | H        | 41.06583 | \n",
       "| 42.0     | M        | 58.72603 | \n",
       "| 58.4     | Y        | 73.80978 | \n",
       "| 19.9     | J        | 21.64032 | \n",
       "| 23.5     | H        | 25.20976 | \n",
       "| 21.6     | R        | 26.84327 | \n",
       "| 33.1     | A        | 45.64636 | \n",
       "\n",
       "\n"
      ],
      "text/plain": [
       "  Dr.Score Division Estimated Final Score\n",
       "1 32.5     A        44.84689             \n",
       "2 35.4     H        41.06583             \n",
       "3 42.0     M        58.72603             \n",
       "4 58.4     Y        73.80978             \n",
       "5 19.9     J        21.64032             \n",
       "6 23.5     H        25.20976             \n",
       "7 21.6     R        26.84327             \n",
       "8 33.1     A        45.64636             "
      ]
     },
     "metadata": {},
     "output_type": "display_data"
    }
   ],
   "source": [
    "predictResults <- glm(Total.after.SJ ~ Division + Dr.Score, family=gaussian(link = \"identity\"), data = scores)\n",
    "testData[\"Estimated Final Score\"] <- predict(predictResults, testData, type=\"response\")\n",
    "testData"
   ]
  },
  {
   "cell_type": "markdown",
   "metadata": {},
   "source": [
    "Just to see what happens, let's use the same dressage score and different divisions to see what the difference in estimation is."
   ]
  },
  {
   "cell_type": "code",
   "execution_count": 24,
   "metadata": {},
   "outputs": [
    {
     "data": {
      "text/html": [
       "<table>\n",
       "<thead><tr><th scope=col>Dr.Score</th><th scope=col>Division</th><th scope=col>Estimated Final Score</th></tr></thead>\n",
       "<tbody>\n",
       "\t<tr><td>34.2    </td><td>A       </td><td>47.11204</td></tr>\n",
       "\t<tr><td>34.2    </td><td>H       </td><td>39.46690</td></tr>\n",
       "\t<tr><td>34.2    </td><td>M       </td><td>48.33298</td></tr>\n",
       "\t<tr><td>34.2    </td><td>Y       </td><td>41.56468</td></tr>\n",
       "\t<tr><td>34.2    </td><td>J       </td><td>40.69424</td></tr>\n",
       "\t<tr><td>34.2    </td><td>R       </td><td>43.63204</td></tr>\n",
       "</tbody>\n",
       "</table>\n"
      ],
      "text/latex": [
       "\\begin{tabular}{r|lll}\n",
       " Dr.Score & Division & Estimated Final Score\\\\\n",
       "\\hline\n",
       "\t 34.2     & A        & 47.11204\\\\\n",
       "\t 34.2     & H        & 39.46690\\\\\n",
       "\t 34.2     & M        & 48.33298\\\\\n",
       "\t 34.2     & Y        & 41.56468\\\\\n",
       "\t 34.2     & J        & 40.69424\\\\\n",
       "\t 34.2     & R        & 43.63204\\\\\n",
       "\\end{tabular}\n"
      ],
      "text/markdown": [
       "\n",
       "Dr.Score | Division | Estimated Final Score | \n",
       "|---|---|---|---|---|---|\n",
       "| 34.2     | A        | 47.11204 | \n",
       "| 34.2     | H        | 39.46690 | \n",
       "| 34.2     | M        | 48.33298 | \n",
       "| 34.2     | Y        | 41.56468 | \n",
       "| 34.2     | J        | 40.69424 | \n",
       "| 34.2     | R        | 43.63204 | \n",
       "\n",
       "\n"
      ],
      "text/plain": [
       "  Dr.Score Division Estimated Final Score\n",
       "1 34.2     A        47.11204             \n",
       "2 34.2     H        39.46690             \n",
       "3 34.2     M        48.33298             \n",
       "4 34.2     Y        41.56468             \n",
       "5 34.2     J        40.69424             \n",
       "6 34.2     R        43.63204             "
      ]
     },
     "metadata": {},
     "output_type": "display_data"
    }
   ],
   "source": [
    "sameDrScore[\"Estimated Final Score\"] <- \n",
    "    predict(predictResults, sameDrScore, type=\"response\")\n",
    "sameDrScore"
   ]
  },
  {
   "cell_type": "markdown",
   "metadata": {},
   "source": [
    "Given the above results, we can see that the highest estimated score is for the Master Division and the lowest predicted score is for the Horse Division.  This makes sense, given that the p-values from the Tukey and pairwise t tests are smallest for those two divisions.  The next highest score, Amateur, also had a low p-value for its difference with the Horse division."
   ]
  },
  {
   "cell_type": "markdown",
   "metadata": {},
   "source": [
    "## Comparison of Incompleted and Completed Scores\n",
    "\n",
    "The scores of competitors who completed the event are not the only ones of interest.  It would be nice to know if we can predict whether or not a rider will be disqualified from a competition.\n",
    "\n",
    "\n",
    "##### **H0**: There is no difference in the initial dressage score for competitors who were eliminated and those that were not.\n",
    "##### **HA**: There is a difference in the initial dressage score for competitors who were eliminated and those that were not.\n"
   ]
  },
  {
   "cell_type": "markdown",
   "metadata": {},
   "source": [
    "The first step is to add a new column to the datasets that says whether or not the competitor completed the competition.  Then, the incompleted scores are combined with the completed scores to yield a master table containing all the data points."
   ]
  },
  {
   "cell_type": "code",
   "execution_count": 11,
   "metadata": {},
   "outputs": [
    {
     "data": {
      "text/html": [
       "<table>\n",
       "<thead><tr><th scope=col>Dr.Score</th><th scope=col>Place.after.Dr</th><th scope=col>XC.Jump</th><th scope=col>XC.Time</th><th scope=col>Total.after.XC</th><th scope=col>Place.after.XC</th><th scope=col>SJ.Jump</th><th scope=col>SJ.Time</th><th scope=col>Total.after.SJ</th><th scope=col>Final.Place</th><th scope=col>Year</th><th scope=col>Division</th><th scope=col>Completed</th></tr></thead>\n",
       "<tbody>\n",
       "\t<tr><td>24.5</td><td>1   </td><td>0   </td><td>0.0 </td><td>24.5</td><td>1   </td><td>0   </td><td>0   </td><td>24.5</td><td>1   </td><td>2018</td><td>A   </td><td>TRUE</td></tr>\n",
       "\t<tr><td>28.1</td><td>4   </td><td>0   </td><td>0.4 </td><td>28.5</td><td>2   </td><td>0   </td><td>0   </td><td>28.5</td><td>2   </td><td>2018</td><td>A   </td><td>TRUE</td></tr>\n",
       "\t<tr><td>30.5</td><td>6   </td><td>0   </td><td>0.0 </td><td>30.5</td><td>4   </td><td>0   </td><td>0   </td><td>30.5</td><td>3   </td><td>2018</td><td>A   </td><td>TRUE</td></tr>\n",
       "\t<tr><td>31.1</td><td>8   </td><td>0   </td><td>0.0 </td><td>31.1</td><td>6   </td><td>0   </td><td>0   </td><td>31.1</td><td>4   </td><td>2018</td><td>A   </td><td>TRUE</td></tr>\n",
       "\t<tr><td>32.0</td><td>11  </td><td>0   </td><td>0.0 </td><td>32.0</td><td>8   </td><td>0   </td><td>0   </td><td>32.0</td><td>5   </td><td>2018</td><td>A   </td><td>TRUE</td></tr>\n",
       "\t<tr><td>32.5</td><td>13  </td><td>0   </td><td>0.0 </td><td>32.5</td><td>10  </td><td>0   </td><td>0   </td><td>32.5</td><td>6   </td><td>2018</td><td>A   </td><td>TRUE</td></tr>\n",
       "</tbody>\n",
       "</table>\n"
      ],
      "text/latex": [
       "\\begin{tabular}{r|lllllllllllll}\n",
       " Dr.Score & Place.after.Dr & XC.Jump & XC.Time & Total.after.XC & Place.after.XC & SJ.Jump & SJ.Time & Total.after.SJ & Final.Place & Year & Division & Completed\\\\\n",
       "\\hline\n",
       "\t 24.5 & 1    & 0    & 0.0  & 24.5 & 1    & 0    & 0    & 24.5 & 1    & 2018 & A    & TRUE\\\\\n",
       "\t 28.1 & 4    & 0    & 0.4  & 28.5 & 2    & 0    & 0    & 28.5 & 2    & 2018 & A    & TRUE\\\\\n",
       "\t 30.5 & 6    & 0    & 0.0  & 30.5 & 4    & 0    & 0    & 30.5 & 3    & 2018 & A    & TRUE\\\\\n",
       "\t 31.1 & 8    & 0    & 0.0  & 31.1 & 6    & 0    & 0    & 31.1 & 4    & 2018 & A    & TRUE\\\\\n",
       "\t 32.0 & 11   & 0    & 0.0  & 32.0 & 8    & 0    & 0    & 32.0 & 5    & 2018 & A    & TRUE\\\\\n",
       "\t 32.5 & 13   & 0    & 0.0  & 32.5 & 10   & 0    & 0    & 32.5 & 6    & 2018 & A    & TRUE\\\\\n",
       "\\end{tabular}\n"
      ],
      "text/markdown": [
       "\n",
       "Dr.Score | Place.after.Dr | XC.Jump | XC.Time | Total.after.XC | Place.after.XC | SJ.Jump | SJ.Time | Total.after.SJ | Final.Place | Year | Division | Completed | \n",
       "|---|---|---|---|---|---|\n",
       "| 24.5 | 1    | 0    | 0.0  | 24.5 | 1    | 0    | 0    | 24.5 | 1    | 2018 | A    | TRUE | \n",
       "| 28.1 | 4    | 0    | 0.4  | 28.5 | 2    | 0    | 0    | 28.5 | 2    | 2018 | A    | TRUE | \n",
       "| 30.5 | 6    | 0    | 0.0  | 30.5 | 4    | 0    | 0    | 30.5 | 3    | 2018 | A    | TRUE | \n",
       "| 31.1 | 8    | 0    | 0.0  | 31.1 | 6    | 0    | 0    | 31.1 | 4    | 2018 | A    | TRUE | \n",
       "| 32.0 | 11   | 0    | 0.0  | 32.0 | 8    | 0    | 0    | 32.0 | 5    | 2018 | A    | TRUE | \n",
       "| 32.5 | 13   | 0    | 0.0  | 32.5 | 10   | 0    | 0    | 32.5 | 6    | 2018 | A    | TRUE | \n",
       "\n",
       "\n"
      ],
      "text/plain": [
       "  Dr.Score Place.after.Dr XC.Jump XC.Time Total.after.XC Place.after.XC SJ.Jump\n",
       "1 24.5     1              0       0.0     24.5           1              0      \n",
       "2 28.1     4              0       0.4     28.5           2              0      \n",
       "3 30.5     6              0       0.0     30.5           4              0      \n",
       "4 31.1     8              0       0.0     31.1           6              0      \n",
       "5 32.0     11             0       0.0     32.0           8              0      \n",
       "6 32.5     13             0       0.0     32.5           10             0      \n",
       "  SJ.Time Total.after.SJ Final.Place Year Division Completed\n",
       "1 0       24.5           1           2018 A        TRUE     \n",
       "2 0       28.5           2           2018 A        TRUE     \n",
       "3 0       30.5           3           2018 A        TRUE     \n",
       "4 0       31.1           4           2018 A        TRUE     \n",
       "5 0       32.0           5           2018 A        TRUE     \n",
       "6 0       32.5           6           2018 A        TRUE     "
      ]
     },
     "metadata": {},
     "output_type": "display_data"
    }
   ],
   "source": [
    "#add new columns\n",
    "incompletedScores[\"Completed\"] <- FALSE\n",
    "scores[\"Completed\"]<- TRUE\n",
    "#combine scores into one table\n",
    "total <- rbind(scores, incompletedScores)\n",
    "head(total)"
   ]
  },
  {
   "cell_type": "markdown",
   "metadata": {},
   "source": [
    "Now that we've added the \"Completed\" field, let's group by that to see if we notice a difference between the two groups visually."
   ]
  },
  {
   "cell_type": "code",
   "execution_count": 12,
   "metadata": {},
   "outputs": [
    {
     "data": {},
     "metadata": {},
     "output_type": "display_data"
    },
    {
     "data": {
      "image/png": "[encoded data removed]",
      "text/plain": [
       "plot without title"
      ]
     },
     "metadata": {},
     "output_type": "display_data"
    }
   ],
   "source": [
    "ggplot(total, aes(x=Division, y=Dr.Score, fill=Completed)) + \n",
    "        geom_boxplot() +\n",
    "        ggtitle(\"Dressage Scores of Completed and Incompleted Competitors by Division\") + \n",
    "        scale_fill_discrete(name=\"Completed?\",\n",
    "                           label=c(\"No\", \"Yes\"))"
   ]
  },
  {
   "cell_type": "markdown",
   "metadata": {},
   "source": [
    "While there are slight trends (notice that the median score of those who completed is always the same or lower than the scores of incompleted), the two groups appear fairly similar.  The final step is to perform a t test to see if there is a statistically significant difference between the two groups."
   ]
  },
  {
   "cell_type": "code",
   "execution_count": 13,
   "metadata": {},
   "outputs": [
    {
     "data": {
      "text/plain": [
       "\n",
       "\tWelch Two Sample t-test\n",
       "\n",
       "data:  incompletedScores$Dr.Score and scores$Dr.Score\n",
       "t = 1.0278, df = 60.469, p-value = 0.3081\n",
       "alternative hypothesis: true difference in means is not equal to 0\n",
       "95 percent confidence interval:\n",
       " -0.618503  1.926362\n",
       "sample estimates:\n",
       "mean of x mean of y \n",
       " 34.30417  33.65024 \n"
      ]
     },
     "metadata": {},
     "output_type": "display_data"
    }
   ],
   "source": [
    "t.test(incompletedScores$Dr.Score, scores$Dr.Score, var.equal=FALSE)"
   ]
  },
  {
   "cell_type": "markdown",
   "metadata": {},
   "source": [
    "We can see that there is a p-value of 0.3081.  Since it is greater than 0.05, we will fail to reject the null hypothesis that there is a difference in dressage scores between the two groups.\n",
    "\n",
    "This means that there is no relationship between initial dressage score and being eliminated."
   ]
  },
  {
   "cell_type": "markdown",
   "metadata": {},
   "source": [
    "### Predict Probability of Elimination Given Division and Initial Dressage Score\n",
    "\n",
    "Despite the fact that initial dressage score paired t test had a high p-value, we will still build a model that takes initial dressage score into account.  Otherwise, the results would just be the probability of each division. \n",
    "\n",
    "The first step towards being able to predict that a certain competitor will be eliminated is to convert the boolean values of `Completed` into numerical values.  We will convert `TRUE` to 1 and `FALSE` to 0.  Below we can see that the transformation has completed successfully."
   ]
  },
  {
   "cell_type": "code",
   "execution_count": 14,
   "metadata": {},
   "outputs": [
    {
     "data": {
      "text/html": [
       "<table>\n",
       "<thead><tr><th scope=col>Dr.Score</th><th scope=col>Place.after.Dr</th><th scope=col>XC.Jump</th><th scope=col>XC.Time</th><th scope=col>Total.after.XC</th><th scope=col>Place.after.XC</th><th scope=col>SJ.Jump</th><th scope=col>SJ.Time</th><th scope=col>Total.after.SJ</th><th scope=col>Final.Place</th><th scope=col>Year</th><th scope=col>Division</th><th scope=col>Completed</th></tr></thead>\n",
       "<tbody>\n",
       "\t<tr><td>24.5</td><td>1   </td><td>0   </td><td>0.0 </td><td>24.5</td><td>1   </td><td>0   </td><td>0   </td><td>24.5</td><td>1   </td><td>2018</td><td>A   </td><td>1   </td></tr>\n",
       "\t<tr><td>28.1</td><td>4   </td><td>0   </td><td>0.4 </td><td>28.5</td><td>2   </td><td>0   </td><td>0   </td><td>28.5</td><td>2   </td><td>2018</td><td>A   </td><td>1   </td></tr>\n",
       "\t<tr><td>30.5</td><td>6   </td><td>0   </td><td>0.0 </td><td>30.5</td><td>4   </td><td>0   </td><td>0   </td><td>30.5</td><td>3   </td><td>2018</td><td>A   </td><td>1   </td></tr>\n",
       "\t<tr><td>31.1</td><td>8   </td><td>0   </td><td>0.0 </td><td>31.1</td><td>6   </td><td>0   </td><td>0   </td><td>31.1</td><td>4   </td><td>2018</td><td>A   </td><td>1   </td></tr>\n",
       "\t<tr><td>32.0</td><td>11  </td><td>0   </td><td>0.0 </td><td>32.0</td><td>8   </td><td>0   </td><td>0   </td><td>32.0</td><td>5   </td><td>2018</td><td>A   </td><td>1   </td></tr>\n",
       "\t<tr><td>32.5</td><td>13  </td><td>0   </td><td>0.0 </td><td>32.5</td><td>10  </td><td>0   </td><td>0   </td><td>32.5</td><td>6   </td><td>2018</td><td>A   </td><td>1   </td></tr>\n",
       "</tbody>\n",
       "</table>\n"
      ],
      "text/latex": [
       "\\begin{tabular}{r|lllllllllllll}\n",
       " Dr.Score & Place.after.Dr & XC.Jump & XC.Time & Total.after.XC & Place.after.XC & SJ.Jump & SJ.Time & Total.after.SJ & Final.Place & Year & Division & Completed\\\\\n",
       "\\hline\n",
       "\t 24.5 & 1    & 0    & 0.0  & 24.5 & 1    & 0    & 0    & 24.5 & 1    & 2018 & A    & 1   \\\\\n",
       "\t 28.1 & 4    & 0    & 0.4  & 28.5 & 2    & 0    & 0    & 28.5 & 2    & 2018 & A    & 1   \\\\\n",
       "\t 30.5 & 6    & 0    & 0.0  & 30.5 & 4    & 0    & 0    & 30.5 & 3    & 2018 & A    & 1   \\\\\n",
       "\t 31.1 & 8    & 0    & 0.0  & 31.1 & 6    & 0    & 0    & 31.1 & 4    & 2018 & A    & 1   \\\\\n",
       "\t 32.0 & 11   & 0    & 0.0  & 32.0 & 8    & 0    & 0    & 32.0 & 5    & 2018 & A    & 1   \\\\\n",
       "\t 32.5 & 13   & 0    & 0.0  & 32.5 & 10   & 0    & 0    & 32.5 & 6    & 2018 & A    & 1   \\\\\n",
       "\\end{tabular}\n"
      ],
      "text/markdown": [
       "\n",
       "Dr.Score | Place.after.Dr | XC.Jump | XC.Time | Total.after.XC | Place.after.XC | SJ.Jump | SJ.Time | Total.after.SJ | Final.Place | Year | Division | Completed | \n",
       "|---|---|---|---|---|---|\n",
       "| 24.5 | 1    | 0    | 0.0  | 24.5 | 1    | 0    | 0    | 24.5 | 1    | 2018 | A    | 1    | \n",
       "| 28.1 | 4    | 0    | 0.4  | 28.5 | 2    | 0    | 0    | 28.5 | 2    | 2018 | A    | 1    | \n",
       "| 30.5 | 6    | 0    | 0.0  | 30.5 | 4    | 0    | 0    | 30.5 | 3    | 2018 | A    | 1    | \n",
       "| 31.1 | 8    | 0    | 0.0  | 31.1 | 6    | 0    | 0    | 31.1 | 4    | 2018 | A    | 1    | \n",
       "| 32.0 | 11   | 0    | 0.0  | 32.0 | 8    | 0    | 0    | 32.0 | 5    | 2018 | A    | 1    | \n",
       "| 32.5 | 13   | 0    | 0.0  | 32.5 | 10   | 0    | 0    | 32.5 | 6    | 2018 | A    | 1    | \n",
       "\n",
       "\n"
      ],
      "text/plain": [
       "  Dr.Score Place.after.Dr XC.Jump XC.Time Total.after.XC Place.after.XC SJ.Jump\n",
       "1 24.5     1              0       0.0     24.5           1              0      \n",
       "2 28.1     4              0       0.4     28.5           2              0      \n",
       "3 30.5     6              0       0.0     30.5           4              0      \n",
       "4 31.1     8              0       0.0     31.1           6              0      \n",
       "5 32.0     11             0       0.0     32.0           8              0      \n",
       "6 32.5     13             0       0.0     32.5           10             0      \n",
       "  SJ.Time Total.after.SJ Final.Place Year Division Completed\n",
       "1 0       24.5           1           2018 A        1        \n",
       "2 0       28.5           2           2018 A        1        \n",
       "3 0       30.5           3           2018 A        1        \n",
       "4 0       31.1           4           2018 A        1        \n",
       "5 0       32.0           5           2018 A        1        \n",
       "6 0       32.5           6           2018 A        1        "
      ]
     },
     "metadata": {},
     "output_type": "display_data"
    }
   ],
   "source": [
    "total[\"Completed\"] <- as.integer(as.logical(total$Completed))\n",
    "head(total)"
   ]
  },
  {
   "cell_type": "code",
   "execution_count": null,
   "metadata": {},
   "outputs": [],
   "source": [
    "Next, generate the binomal linear "
   ]
  },
  {
   "cell_type": "code",
   "execution_count": 15,
   "metadata": {},
   "outputs": [
    {
     "data": {
      "text/plain": [
       "\n",
       "Call:\n",
       "glm(formula = Completed ~ Dr.Score + Division, family = binomial(link = \"logit\"), \n",
       "    data = total)\n",
       "\n",
       "Deviance Residuals: \n",
       "    Min       1Q   Median       3Q      Max  \n",
       "-2.4312   0.3742   0.4522   0.5025   0.6340  \n",
       "\n",
       "Coefficients:\n",
       "            Estimate Std. Error z value Pr(>|z|)   \n",
       "(Intercept)  3.31937    1.25330   2.649  0.00808 **\n",
       "Dr.Score    -0.03105    0.03498  -0.888  0.37473   \n",
       "DivisionH    0.55448    0.63562   0.872  0.38302   \n",
       "DivisionJ   -0.10342    0.48357  -0.214  0.83065   \n",
       "DivisionM   -0.44142    0.49401  -0.894  0.37156   \n",
       "DivisionR    0.14853    0.64104   0.232  0.81677   \n",
       "DivisionY   -0.35340    0.51674  -0.684  0.49404   \n",
       "---\n",
       "Signif. codes:  0 ‘***’ 0.001 ‘**’ 0.01 ‘*’ 0.05 ‘.’ 0.1 ‘ ’ 1\n",
       "\n",
       "(Dispersion parameter for binomial family taken to be 1)\n",
       "\n",
       "    Null deviance: 309.95  on 469  degrees of freedom\n",
       "Residual deviance: 305.25  on 463  degrees of freedom\n",
       "AIC: 319.25\n",
       "\n",
       "Number of Fisher Scoring iterations: 5\n"
      ]
     },
     "metadata": {},
     "output_type": "display_data"
    }
   ],
   "source": [
    "elimModel <- glm(Completed ~ Dr.Score + Division, family=binomial(link=\"logit\"), data=total)\n",
    "summary(elimModel)"
   ]
  },
  {
   "cell_type": "markdown",
   "metadata": {},
   "source": [
    "Now, we can use the same test data sets as before to calculate the probability that each competitor will be eliminated."
   ]
  },
  {
   "cell_type": "code",
   "execution_count": 16,
   "metadata": {},
   "outputs": [
    {
     "data": {
      "text/html": [
       "<table>\n",
       "<thead><tr><th scope=col>Dr.Score</th><th scope=col>Division</th><th scope=col>Estimated Final Score</th><th scope=col>Probability of Being Eliminated</th></tr></thead>\n",
       "<tbody>\n",
       "\t<tr><td>32.5      </td><td>A         </td><td>44.84689  </td><td>0.09027974</td></tr>\n",
       "\t<tr><td>35.4      </td><td>H         </td><td>41.06583  </td><td>0.05870891</td></tr>\n",
       "\t<tr><td>42.0      </td><td>M         </td><td>58.72603  </td><td>0.17167275</td></tr>\n",
       "\t<tr><td>58.4      </td><td>Y         </td><td>73.80978  </td><td>0.24001245</td></tr>\n",
       "\t<tr><td>19.9      </td><td>J         </td><td>21.64032  </td><td>0.06926465</td></tr>\n",
       "\t<tr><td>23.5      </td><td>H         </td><td>25.20976  </td><td>0.04132184</td></tr>\n",
       "\t<tr><td>21.6      </td><td>R         </td><td>26.84327  </td><td>0.05747518</td></tr>\n",
       "\t<tr><td>33.1      </td><td>A         </td><td>45.64636  </td><td>0.09182157</td></tr>\n",
       "</tbody>\n",
       "</table>\n"
      ],
      "text/latex": [
       "\\begin{tabular}{r|llll}\n",
       " Dr.Score & Division & Estimated Final Score & Probability of Being Eliminated\\\\\n",
       "\\hline\n",
       "\t 32.5       & A          & 44.84689   & 0.09027974\\\\\n",
       "\t 35.4       & H          & 41.06583   & 0.05870891\\\\\n",
       "\t 42.0       & M          & 58.72603   & 0.17167275\\\\\n",
       "\t 58.4       & Y          & 73.80978   & 0.24001245\\\\\n",
       "\t 19.9       & J          & 21.64032   & 0.06926465\\\\\n",
       "\t 23.5       & H          & 25.20976   & 0.04132184\\\\\n",
       "\t 21.6       & R          & 26.84327   & 0.05747518\\\\\n",
       "\t 33.1       & A          & 45.64636   & 0.09182157\\\\\n",
       "\\end{tabular}\n"
      ],
      "text/markdown": [
       "\n",
       "Dr.Score | Division | Estimated Final Score | Probability of Being Eliminated | \n",
       "|---|---|---|---|---|---|---|---|\n",
       "| 32.5       | A          | 44.84689   | 0.09027974 | \n",
       "| 35.4       | H          | 41.06583   | 0.05870891 | \n",
       "| 42.0       | M          | 58.72603   | 0.17167275 | \n",
       "| 58.4       | Y          | 73.80978   | 0.24001245 | \n",
       "| 19.9       | J          | 21.64032   | 0.06926465 | \n",
       "| 23.5       | H          | 25.20976   | 0.04132184 | \n",
       "| 21.6       | R          | 26.84327   | 0.05747518 | \n",
       "| 33.1       | A          | 45.64636   | 0.09182157 | \n",
       "\n",
       "\n"
      ],
      "text/plain": [
       "  Dr.Score Division Estimated Final Score Probability of Being Eliminated\n",
       "1 32.5     A        44.84689              0.09027974                     \n",
       "2 35.4     H        41.06583              0.05870891                     \n",
       "3 42.0     M        58.72603              0.17167275                     \n",
       "4 58.4     Y        73.80978              0.24001245                     \n",
       "5 19.9     J        21.64032              0.06926465                     \n",
       "6 23.5     H        25.20976              0.04132184                     \n",
       "7 21.6     R        26.84327              0.05747518                     \n",
       "8 33.1     A        45.64636              0.09182157                     "
      ]
     },
     "metadata": {},
     "output_type": "display_data"
    }
   ],
   "source": [
    "testData[\"Probability of Being Eliminated\"] <- 1 - predict(elimModel, testData, type=\"response\")\n",
    "testData"
   ]
  },
  {
   "cell_type": "code",
   "execution_count": 17,
   "metadata": {},
   "outputs": [
    {
     "data": {
      "text/html": [
       "<table>\n",
       "<thead><tr><th scope=col>Dr.Score</th><th scope=col>Division</th><th scope=col>Estimated Final Score</th><th scope=col>Probability of Being Eliminated</th></tr></thead>\n",
       "<tbody>\n",
       "\t<tr><td>34.2      </td><td>A         </td><td>47.11204  </td><td>0.09470982</td></tr>\n",
       "\t<tr><td>34.2      </td><td>H         </td><td>39.46690  </td><td>0.05668334</td></tr>\n",
       "\t<tr><td>34.2      </td><td>M         </td><td>48.33298  </td><td>0.13991289</td></tr>\n",
       "\t<tr><td>34.2      </td><td>Y         </td><td>41.56468  </td><td>0.12965213</td></tr>\n",
       "\t<tr><td>34.2      </td><td>J         </td><td>40.69424  </td><td>0.10395660</td></tr>\n",
       "\t<tr><td>34.2      </td><td>R         </td><td>43.63204  </td><td>0.08271857</td></tr>\n",
       "</tbody>\n",
       "</table>\n"
      ],
      "text/latex": [
       "\\begin{tabular}{r|llll}\n",
       " Dr.Score & Division & Estimated Final Score & Probability of Being Eliminated\\\\\n",
       "\\hline\n",
       "\t 34.2       & A          & 47.11204   & 0.09470982\\\\\n",
       "\t 34.2       & H          & 39.46690   & 0.05668334\\\\\n",
       "\t 34.2       & M          & 48.33298   & 0.13991289\\\\\n",
       "\t 34.2       & Y          & 41.56468   & 0.12965213\\\\\n",
       "\t 34.2       & J          & 40.69424   & 0.10395660\\\\\n",
       "\t 34.2       & R          & 43.63204   & 0.08271857\\\\\n",
       "\\end{tabular}\n"
      ],
      "text/markdown": [
       "\n",
       "Dr.Score | Division | Estimated Final Score | Probability of Being Eliminated | \n",
       "|---|---|---|---|---|---|\n",
       "| 34.2       | A          | 47.11204   | 0.09470982 | \n",
       "| 34.2       | H          | 39.46690   | 0.05668334 | \n",
       "| 34.2       | M          | 48.33298   | 0.13991289 | \n",
       "| 34.2       | Y          | 41.56468   | 0.12965213 | \n",
       "| 34.2       | J          | 40.69424   | 0.10395660 | \n",
       "| 34.2       | R          | 43.63204   | 0.08271857 | \n",
       "\n",
       "\n"
      ],
      "text/plain": [
       "  Dr.Score Division Estimated Final Score Probability of Being Eliminated\n",
       "1 34.2     A        47.11204              0.09470982                     \n",
       "2 34.2     H        39.46690              0.05668334                     \n",
       "3 34.2     M        48.33298              0.13991289                     \n",
       "4 34.2     Y        41.56468              0.12965213                     \n",
       "5 34.2     J        40.69424              0.10395660                     \n",
       "6 34.2     R        43.63204              0.08271857                     "
      ]
     },
     "metadata": {},
     "output_type": "display_data"
    }
   ],
   "source": [
    "sameDrScore[\"Probability of Being Eliminated\"] <- 1 - predict(elimModel, sameDrScore, type=\"response\")\n",
    "sameDrScore"
   ]
  },
  {
   "cell_type": "markdown",
   "metadata": {},
   "source": [
    "It is interesting to note that although the p-value was larger than we normally consider statistically significant, the dressage score still had an effect on the probability.  For example, the first row shows an amateur competitor with different dressage scores.  We can see that the competitor with the higher dressage score has a slightly higher probability of being eliminated.\n",
    "\n",
    "## Conclusion\n",
    "\n",
    "To conclude, there were some relationships that did not prove to have statistically significant relationships, such as year and final score and initial dressage score and being eliminated.  There was a relationship between division and final score, showing that different divisions tend to score differently."
   ]
  },
  {
   "cell_type": "code",
   "execution_count": null,
   "metadata": {},
   "outputs": [],
   "source": []
  }
 ],
 "metadata": {
  "kernelspec": {
   "display_name": "R",
   "language": "R",
   "name": "ir"
  },
  "language_info": {
   "codemirror_mode": "r",
   "file_extension": ".r",
   "mimetype": "text/x-r-source",
   "name": "R",
   "pygments_lexer": "r",
   "version": "3.5.1"
  }
 },
 "nbformat": 4,
 "nbformat_minor": 2
}
