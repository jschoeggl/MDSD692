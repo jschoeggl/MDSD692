{
 "cells": [
  {
   "cell_type": "markdown",
   "metadata": {},
   "source": [
    "# An Analysis of scores for different divisions of Eventing at the Beginner Novice Level"
   ]
  },
  {
   "cell_type": "markdown",
   "metadata": {},
   "source": [
    "## Introduction"
   ]
  },
  {
   "cell_type": "markdown",
   "metadata": {},
   "source": [
    "Introduction goes here...\n",
    "\n",
    "The first step is to read in the file where the scores are held.  We do this using the \"read.csv\" command.  This creates a data frame containing all of the scores from the file.  header=TRUE indicates that there is a header in the file that contains the titles of the different columns.\n",
    "\n",
    "We will also load in the Hmisc library to use various functions available in that library."
   ]
  },
  {
   "cell_type": "code",
   "execution_count": 34,
   "metadata": {},
   "outputs": [],
   "source": [
    "scores <- read.csv(file=\"scores.csv\", header=TRUE)\n",
    "library(Hmisc)"
   ]
  },
  {
   "cell_type": "markdown",
   "metadata": {},
   "source": [
    "Next, we will show the first 6 elements of the table.  This gives us a basic idea of the data.  We can see that there are 12 columns for each row.  These are:\n",
    "\n",
    "* dressage score\n",
    "* place after dressage\n",
    "* cross country jumping penalties\n",
    "* cross country time penalties\n",
    "* total penalties after cross country\n",
    "* place after cross country\n",
    "* show jumping jumping penalties\n",
    "* show jumping time penalties\n",
    "* total penalties after show jumping (final penalty score)\n",
    "* final place\n",
    "* year\n",
    "* Division (A = Amateur, H = Horse, R = Rider, M = Master(over age ), J = Junior(under age 18), Y = Young Rider(under age 14)\n",
    "\n",
    "For the sake of simplicity, the scores of the competitors that did not complete the event are not counted in this spreadsheet.  There are several reasons a competitor could not complete, including a rider fall (RF), technical elimination (TE), or withdrawl (W) from the competition.  As each of these non-finishes are indicated by a letter, it is impossible to perform the same type of analysis on non-finishers, as the values for certain fields are not quantitative, but qualitative.  The scores of competitors who did not finish is included later in the notebook."
   ]
  },
  {
   "cell_type": "code",
   "execution_count": 35,
   "metadata": {},
   "outputs": [
    {
     "data": {
      "text/html": [
       "<table>\n",
       "<thead><tr><th scope=col>Dr.Score</th><th scope=col>Place.after.Dr</th><th scope=col>XC.Jump</th><th scope=col>XC.Time</th><th scope=col>Total.after.XC</th><th scope=col>Place.after.XC</th><th scope=col>SJ.Jump</th><th scope=col>SJ.Time</th><th scope=col>Total.after.SJ</th><th scope=col>Final.Place</th><th scope=col>Year</th><th scope=col>Division</th></tr></thead>\n",
       "<tbody>\n",
       "\t<tr><td>24.5</td><td> 1  </td><td>0   </td><td>0.0 </td><td>24.5</td><td> 1  </td><td>0   </td><td>0   </td><td>24.5</td><td>1   </td><td>2018</td><td>A   </td></tr>\n",
       "\t<tr><td>28.1</td><td> 4  </td><td>0   </td><td>0.4 </td><td>28.5</td><td> 2  </td><td>0   </td><td>0   </td><td>28.5</td><td>2   </td><td>2018</td><td>A   </td></tr>\n",
       "\t<tr><td>30.5</td><td> 6  </td><td>0   </td><td>0.0 </td><td>30.5</td><td> 4  </td><td>0   </td><td>0   </td><td>30.5</td><td>3   </td><td>2018</td><td>A   </td></tr>\n",
       "\t<tr><td>31.1</td><td> 8  </td><td>0   </td><td>0.0 </td><td>31.1</td><td> 6  </td><td>0   </td><td>0   </td><td>31.1</td><td>4   </td><td>2018</td><td>A   </td></tr>\n",
       "\t<tr><td>32.0</td><td>11  </td><td>0   </td><td>0.0 </td><td>32.0</td><td> 8  </td><td>0   </td><td>0   </td><td>32.0</td><td>5   </td><td>2018</td><td>A   </td></tr>\n",
       "\t<tr><td>32.5</td><td>13  </td><td>0   </td><td>0.0 </td><td>32.5</td><td>10  </td><td>0   </td><td>0   </td><td>32.5</td><td>6   </td><td>2018</td><td>A   </td></tr>\n",
       "</tbody>\n",
       "</table>\n"
      ],
      "text/latex": [
       "\\begin{tabular}{r|llllllllllll}\n",
       " Dr.Score & Place.after.Dr & XC.Jump & XC.Time & Total.after.XC & Place.after.XC & SJ.Jump & SJ.Time & Total.after.SJ & Final.Place & Year & Division\\\\\n",
       "\\hline\n",
       "\t 24.5 &  1   & 0    & 0.0  & 24.5 &  1   & 0    & 0    & 24.5 & 1    & 2018 & A   \\\\\n",
       "\t 28.1 &  4   & 0    & 0.4  & 28.5 &  2   & 0    & 0    & 28.5 & 2    & 2018 & A   \\\\\n",
       "\t 30.5 &  6   & 0    & 0.0  & 30.5 &  4   & 0    & 0    & 30.5 & 3    & 2018 & A   \\\\\n",
       "\t 31.1 &  8   & 0    & 0.0  & 31.1 &  6   & 0    & 0    & 31.1 & 4    & 2018 & A   \\\\\n",
       "\t 32.0 & 11   & 0    & 0.0  & 32.0 &  8   & 0    & 0    & 32.0 & 5    & 2018 & A   \\\\\n",
       "\t 32.5 & 13   & 0    & 0.0  & 32.5 & 10   & 0    & 0    & 32.5 & 6    & 2018 & A   \\\\\n",
       "\\end{tabular}\n"
      ],
      "text/markdown": [
       "\n",
       "Dr.Score | Place.after.Dr | XC.Jump | XC.Time | Total.after.XC | Place.after.XC | SJ.Jump | SJ.Time | Total.after.SJ | Final.Place | Year | Division | \n",
       "|---|---|---|---|---|---|\n",
       "| 24.5 |  1   | 0    | 0.0  | 24.5 |  1   | 0    | 0    | 24.5 | 1    | 2018 | A    | \n",
       "| 28.1 |  4   | 0    | 0.4  | 28.5 |  2   | 0    | 0    | 28.5 | 2    | 2018 | A    | \n",
       "| 30.5 |  6   | 0    | 0.0  | 30.5 |  4   | 0    | 0    | 30.5 | 3    | 2018 | A    | \n",
       "| 31.1 |  8   | 0    | 0.0  | 31.1 |  6   | 0    | 0    | 31.1 | 4    | 2018 | A    | \n",
       "| 32.0 | 11   | 0    | 0.0  | 32.0 |  8   | 0    | 0    | 32.0 | 5    | 2018 | A    | \n",
       "| 32.5 | 13   | 0    | 0.0  | 32.5 | 10   | 0    | 0    | 32.5 | 6    | 2018 | A    | \n",
       "\n",
       "\n"
      ],
      "text/plain": [
       "  Dr.Score Place.after.Dr XC.Jump XC.Time Total.after.XC Place.after.XC SJ.Jump\n",
       "1 24.5      1             0       0.0     24.5            1             0      \n",
       "2 28.1      4             0       0.4     28.5            2             0      \n",
       "3 30.5      6             0       0.0     30.5            4             0      \n",
       "4 31.1      8             0       0.0     31.1            6             0      \n",
       "5 32.0     11             0       0.0     32.0            8             0      \n",
       "6 32.5     13             0       0.0     32.5           10             0      \n",
       "  SJ.Time Total.after.SJ Final.Place Year Division\n",
       "1 0       24.5           1           2018 A       \n",
       "2 0       28.5           2           2018 A       \n",
       "3 0       30.5           3           2018 A       \n",
       "4 0       31.1           4           2018 A       \n",
       "5 0       32.0           5           2018 A       \n",
       "6 0       32.5           6           2018 A       "
      ]
     },
     "metadata": {},
     "output_type": "display_data"
    }
   ],
   "source": [
    "head(scores)"
   ]
  },
  {
   "cell_type": "markdown",
   "metadata": {},
   "source": [
    "## Data Exploration"
   ]
  },
  {
   "cell_type": "markdown",
   "metadata": {},
   "source": [
    "Now, let's begin our initial analysis of the dataset."
   ]
  },
  {
   "cell_type": "code",
   "execution_count": 36,
   "metadata": {},
   "outputs": [
    {
     "data": {
      "text/plain": [
       "   Min. 1st Qu.  Median    Mean 3rd Qu.    Max. \n",
       "  19.80   30.57   33.50   33.65   37.00   46.30 "
      ]
     },
     "metadata": {},
     "output_type": "display_data"
    }
   ],
   "source": [
    "summary(scores$Dr.Score)"
   ]
  },
  {
   "cell_type": "markdown",
   "metadata": {},
   "source": [
    "We can see that the lowest dressage score was a 19.8 and the highest was a 46.3.  We can see that the median (33.5) and the mean (33.72) are fairly close together, implying that there are not many outliers in dressage score.\n",
    "\n",
    "Now, look at the summary of final scores.  We can see that the lowest score is still a 19.8, meaning that the competitor did not obtain any cross country or show jumping penalties.  However, the other numbers are quite different.  We can see that the median and mean have a much larger difference than the dressage scores, which makes sense given the number of penalities that can be obtained in cross country and show jumping."
   ]
  },
  {
   "cell_type": "code",
   "execution_count": 37,
   "metadata": {},
   "outputs": [
    {
     "data": {
      "text/plain": [
       "   Min. 1st Qu.  Median    Mean 3rd Qu.    Max. \n",
       "  19.80   32.50   37.80   42.61   45.88  176.50 "
      ]
     },
     "metadata": {},
     "output_type": "display_data"
    }
   ],
   "source": [
    "summary(scores$Total.after.SJ)"
   ]
  },
  {
   "cell_type": "markdown",
   "metadata": {},
   "source": [
    "Now let's examine the scores of the competitors that placed in the top 10 of their division."
   ]
  },
  {
   "cell_type": "code",
   "execution_count": 38,
   "metadata": {},
   "outputs": [
    {
     "data": {
      "text/plain": [
       "   Min. 1st Qu.  Median    Mean 3rd Qu.    Max. \n",
       "  19.80   28.10   30.50   30.21   32.30   40.80 "
      ]
     },
     "metadata": {},
     "output_type": "display_data"
    }
   ],
   "source": [
    "topTenScores <- subset(scores, scores$Final.Place <= 10)\n",
    "summary(topTenScores$Dr.Score)"
   ]
  },
  {
   "cell_type": "markdown",
   "metadata": {},
   "source": [
    "It is interesting to note the comparisons between the top ten placed competitors and the overall group.  The median of top ten placers is 30.30, which is only 3.2 points lower than the larger group.  However, we can see that the mean is 4 points lower than the group mean, implying that there are outliers that tend to be lower."
   ]
  },
  {
   "cell_type": "code",
   "execution_count": 39,
   "metadata": {},
   "outputs": [
    {
     "data": {
      "text/plain": [
       "totalXCPenalties \n",
       "       n  missing distinct     Info     Mean      Gmd      .05      .10 \n",
       "     422        0       56    0.615    6.506    11.13      0.0      0.0 \n",
       "     .25      .50      .75      .90      .95 \n",
       "     0.0      0.0      1.5     20.0     40.0 \n",
       "\n",
       "lowest :   0.0   0.4   0.8   1.2   1.6, highest:  69.6  72.0  73.2 105.2 133.0"
      ]
     },
     "metadata": {},
     "output_type": "display_data"
    }
   ],
   "source": [
    "totalXCPenalties <- (scores$XC.Jump + scores$XC.Time)\n",
    "describe(totalXCPenalties)"
   ]
  },
  {
   "cell_type": "code",
   "execution_count": 40,
   "metadata": {},
   "outputs": [
    {
     "data": {
      "text/plain": [
       "scores$XC.Jump \n",
       "       n  missing distinct     Info     Mean      Gmd \n",
       "     422        0        5    0.418    4.751    8.325 \n",
       "                                        \n",
       "Value          0    20    40    60   125\n",
       "Frequency    352    51    11     7     1\n",
       "Proportion 0.834 0.121 0.026 0.017 0.002"
      ]
     },
     "metadata": {},
     "output_type": "display_data"
    }
   ],
   "source": [
    "describe(scores$XC.Jump)"
   ]
  },
  {
   "cell_type": "markdown",
   "metadata": {},
   "source": [
    "The above gives a good description of the cross country scores.  We can see that a large majority of competitors (352) have 0 penalties, meaning they did not have any refusals or falls.  This accounts for 83.4% of competitors.\n",
    "\n",
    "In top ten finishers, every single competitor ran without cross country jump penalties, although 9 competitors had time penalties."
   ]
  },
  {
   "cell_type": "code",
   "execution_count": 41,
   "metadata": {},
   "outputs": [
    {
     "data": {
      "text/plain": [
       "totalXCPenaltiesTopTen \n",
       "       n  missing distinct     Info     Mean      Gmd \n",
       "     150        0        6    0.169   0.1333     0.26 \n",
       "                                              \n",
       "Value        0.0   0.4   1.2   2.0   3.2   8.4\n",
       "Frequency    141     2     3     2     1     1\n",
       "Proportion 0.940 0.013 0.020 0.013 0.007 0.007"
      ]
     },
     "metadata": {},
     "output_type": "display_data"
    }
   ],
   "source": [
    "totalXCPenaltiesTopTen <- topTenScores$XC.Jump + topTenScores$XC.Time\n",
    "describe(totalXCPenaltiesTopTen)"
   ]
  },
  {
   "cell_type": "markdown",
   "metadata": {},
   "source": [
    "Let's examine the scores of competitors that moved up in place from their initial dressage placing.  First, we create the variable that determines a competitor's change in placing.  A positive change in place indicates that the dressage place is larger than the final place, meaning that the competitor moved up in placing."
   ]
  },
  {
   "cell_type": "code",
   "execution_count": 59,
   "metadata": {},
   "outputs": [
    {
     "data": {
      "text/plain": [
       "   Min. 1st Qu.  Median    Mean 3rd Qu.    Max. \n",
       "-28.000  -2.000   2.500   1.377   7.000  20.000 "
      ]
     },
     "metadata": {},
     "output_type": "display_data"
    }
   ],
   "source": [
    "changeInPlace <- scores$Place.after.Dr - scores$Final.Place\n",
    "summary(changeInPlace)"
   ]
  },
  {
   "cell_type": "markdown",
   "metadata": {},
   "source": [
    "Examining the summary of the change in place tells us that on average, competitors move up 1-2 places from their original dressage placing."
   ]
  },
  {
   "cell_type": "code",
   "execution_count": 43,
   "metadata": {},
   "outputs": [
    {
     "data": {
      "text/plain": [
       "movedUpInPlacing \n",
       "       n  missing distinct     Info     Mean      Gmd      .05      .10 \n",
       "     271        0       19    0.992     6.14    4.497        1        1 \n",
       "     .25      .50      .75      .90      .95 \n",
       "       3        6        9       11       13 \n",
       "                                                                            \n",
       "Value          1     2     3     4     5     6     7     8     9    10    11\n",
       "Frequency     33    27    27    28    13    25    27    15    28    10    12\n",
       "Proportion 0.122 0.100 0.100 0.103 0.048 0.092 0.100 0.055 0.103 0.037 0.044\n",
       "                                                          \n",
       "Value         12    13    14    15    17    18    19    20\n",
       "Frequency      5     9     3     3     1     2     1     2\n",
       "Proportion 0.018 0.033 0.011 0.011 0.004 0.007 0.004 0.007"
      ]
     },
     "metadata": {},
     "output_type": "display_data"
    }
   ],
   "source": [
    "movedUpInPlacing <- subset(changeInPlace, changeInPlace > 0)\n",
    "describe(movedUpInPlacing)"
   ]
  },
  {
   "cell_type": "markdown",
   "metadata": {},
   "source": [
    "We can see that 271 competitors moved up in placing, or 64.2%.  "
   ]
  },
  {
   "cell_type": "code",
   "execution_count": 44,
   "metadata": {},
   "outputs": [
    {
     "data": {
      "text/plain": [
       "movedDownInPlacing \n",
       "       n  missing distinct     Info     Mean      Gmd      .05      .10 \n",
       "     126        0       25    0.995   -8.595    7.777   -24.75   -19.00 \n",
       "     .25      .50      .75      .90      .95 \n",
       "  -12.75    -6.00    -3.00    -2.00    -1.00 \n",
       "\n",
       "lowest : -28 -27 -25 -24 -21, highest:  -5  -4  -3  -2  -1"
      ]
     },
     "metadata": {},
     "output_type": "display_data"
    }
   ],
   "source": [
    "movedDownInPlacing <- subset(changeInPlace, changeInPlace < 0)\n",
    "describe(movedDownInPlacing)"
   ]
  },
  {
   "cell_type": "code",
   "execution_count": null,
   "metadata": {},
   "outputs": [],
   "source": []
  },
  {
   "cell_type": "code",
   "execution_count": 45,
   "metadata": {},
   "outputs": [
    {
     "data": {
      "text/plain": [
       "placingRemainedTheSame \n",
       "       n  missing distinct     Info     Mean      Gmd \n",
       "      25        0        1        0        0        0 \n",
       "             \n",
       "Value       0\n",
       "Frequency  25\n",
       "Proportion  1"
      ]
     },
     "metadata": {},
     "output_type": "display_data"
    }
   ],
   "source": [
    "placingRemainedTheSame <- subset(changeInPlace, changeInPlace ==0)\n",
    "describe(placingRemainedTheSame)"
   ]
  },
  {
   "cell_type": "code",
   "execution_count": null,
   "metadata": {},
   "outputs": [],
   "source": []
  },
  {
   "cell_type": "markdown",
   "metadata": {},
   "source": [
    "It is interesting to note that 271 competitors moved up in placing, or 64.218%, while 126 or 29.856% went down in placing.  25, or 5.924% of competitors maintined the same position they started with."
   ]
  },
  {
   "cell_type": "code",
   "execution_count": 46,
   "metadata": {},
   "outputs": [
    {
     "data": {
      "text/plain": [
       "totalSJPenalties \n",
       "       n  missing distinct     Info     Mean      Gmd      .05      .10 \n",
       "     422        0       20    0.764     2.45    3.598        0        0 \n",
       "     .25      .50      .75      .90      .95 \n",
       "       0        0        4        8        9 \n",
       "                                                                            \n",
       "Value          0     1     2     3     4     5     6     7     8     9    10\n",
       "Frequency    256     5     3     2    98     5     1     1    27     3     2\n",
       "Proportion 0.607 0.012 0.007 0.005 0.232 0.012 0.002 0.002 0.064 0.007 0.005\n",
       "                                                                \n",
       "Value         12    13    14    16    19    20    28    31    32\n",
       "Frequency      5     2     2     5     1     1     1     1     1\n",
       "Proportion 0.012 0.005 0.005 0.012 0.002 0.002 0.002 0.002 0.002"
      ]
     },
     "metadata": {},
     "output_type": "display_data"
    }
   ],
   "source": [
    "totalSJPenalties <- scores$SJ.Jump + scores$SJ.Time\n",
    "describe(totalSJPenalties)"
   ]
  },
  {
   "cell_type": "code",
   "execution_count": null,
   "metadata": {},
   "outputs": [],
   "source": []
  },
  {
   "cell_type": "markdown",
   "metadata": {},
   "source": [
    "Here we can see that 256 competitors did not collect any penalties in show jumping.  This means that 60% of competitors do not"
   ]
  },
  {
   "cell_type": "code",
   "execution_count": 47,
   "metadata": {},
   "outputs": [
    {
     "data": {
      "text/plain": [
       "   Min. 1st Qu.  Median    Mean 3rd Qu.    Max. \n",
       "  0.000   0.000   4.000   8.956   8.400 137.000 "
      ]
     },
     "metadata": {},
     "output_type": "display_data"
    },
    {
     "data": {
      "text/html": [
       "184"
      ],
      "text/latex": [
       "184"
      ],
      "text/markdown": [
       "184"
      ],
      "text/plain": [
       "[1] 184"
      ]
     },
     "metadata": {},
     "output_type": "display_data"
    }
   ],
   "source": [
    "diffInFinalScore <- scores$Total.after.SJ - scores$Dr.Score\n",
    "summary(diffInFinalScore)\n",
    "sum(diffInFinalScore == 0)"
   ]
  },
  {
   "cell_type": "markdown",
   "metadata": {},
   "source": [
    "It is interesting to note that 184 competitors finished on their dressage score.  That's 43.602%."
   ]
  },
  {
   "cell_type": "code",
   "execution_count": null,
   "metadata": {},
   "outputs": [],
   "source": [
    "Of the top ten finishers, 113 completed on their dressage score, compared to 184 total competitors."
   ]
  },
  {
   "cell_type": "code",
   "execution_count": 60,
   "metadata": {},
   "outputs": [
    {
     "data": {
      "text/html": [
       "113"
      ],
      "text/latex": [
       "113"
      ],
      "text/markdown": [
       "113"
      ],
      "text/plain": [
       "[1] 113"
      ]
     },
     "metadata": {},
     "output_type": "display_data"
    },
    {
     "data": {
      "text/html": [
       "184"
      ],
      "text/latex": [
       "184"
      ],
      "text/markdown": [
       "184"
      ],
      "text/plain": [
       "[1] 184"
      ]
     },
     "metadata": {},
     "output_type": "display_data"
    }
   ],
   "source": [
    "sum(topTenScores$Total.after.SJ - topTenScores$Dr.Score == 0)\n",
    "sum(scores$Total.after.SJ - scores$Dr.Score == 0)"
   ]
  },
  {
   "cell_type": "code",
   "execution_count": 49,
   "metadata": {},
   "outputs": [
    {
     "data": {
      "text/plain": [
       "topTenScores \n",
       "\n",
       " 12  Variables      150  Observations\n",
       "--------------------------------------------------------------------------------\n",
       "Dr.Score \n",
       "       n  missing distinct     Info     Mean      Gmd      .05      .10 \n",
       "     150        0       59    0.999    30.21    3.775    24.39    25.77 \n",
       "     .25      .50      .75      .90      .95 \n",
       "   28.10    30.50    32.30    34.03    35.55 \n",
       "\n",
       "lowest : 19.8 20.0 22.3 22.5 23.3, highest: 36.3 36.5 37.0 38.5 40.8\n",
       "--------------------------------------------------------------------------------\n",
       "Place.after.Dr \n",
       "       n  missing distinct     Info     Mean      Gmd      .05      .10 \n",
       "     150        0       20    0.995    8.047    5.723        1        2 \n",
       "     .25      .50      .75      .90      .95 \n",
       "       4        8       12       16       17 \n",
       "                                                                            \n",
       "Value          1     2     3     4     5     6     7     8     9    10    11\n",
       "Frequency     12    11    11    11    13    12     4     9     5    14     7\n",
       "Proportion 0.080 0.073 0.073 0.073 0.087 0.080 0.027 0.060 0.033 0.093 0.047\n",
       "                                                                \n",
       "Value         12    13    14    15    16    17    18    19    22\n",
       "Frequency     13     7     2     3     6     5     2     2     1\n",
       "Proportion 0.087 0.047 0.013 0.020 0.040 0.033 0.013 0.013 0.007\n",
       "--------------------------------------------------------------------------------\n",
       "XC.Jump \n",
       "       n  missing distinct     Info     Mean      Gmd \n",
       "     150        0        1        0        0        0 \n",
       "              \n",
       "Value        0\n",
       "Frequency  150\n",
       "Proportion   1\n",
       "--------------------------------------------------------------------------------\n",
       "XC.Time \n",
       "       n  missing distinct     Info     Mean      Gmd \n",
       "     150        0        6    0.169   0.1333     0.26 \n",
       "                                              \n",
       "Value        0.0   0.4   1.2   2.0   3.2   8.4\n",
       "Frequency    141     2     3     2     1     1\n",
       "Proportion 0.940 0.013 0.020 0.013 0.007 0.007\n",
       "--------------------------------------------------------------------------------\n",
       "Total.after.XC \n",
       "       n  missing distinct     Info     Mean      Gmd      .05      .10 \n",
       "     150        0       63    0.999    30.34    3.818    24.39    25.80 \n",
       "     .25      .50      .75      .90      .95 \n",
       "   28.30    30.50    32.30    34.03    35.55 \n",
       "\n",
       "lowest : 19.8 20.0 22.3 22.5 23.3, highest: 36.3 36.5 37.0 38.5 49.2\n",
       "--------------------------------------------------------------------------------\n",
       "Place.after.XC \n",
       "       n  missing distinct     Info     Mean      Gmd      .05      .10 \n",
       "     150        0       14    0.993     6.16    4.193        1        1 \n",
       "     .25      .50      .75      .90      .95 \n",
       "       3        6        9       11       13 \n",
       "                                                                            \n",
       "Value          1     2     3     4     5     6     7     8     9    10    11\n",
       "Frequency     16    16    11    15    12    15     8    13    12    12    10\n",
       "Proportion 0.107 0.107 0.073 0.100 0.080 0.100 0.053 0.087 0.080 0.080 0.067\n",
       "                            \n",
       "Value         12    13    14\n",
       "Frequency      1     3     6\n",
       "Proportion 0.007 0.020 0.040\n",
       "--------------------------------------------------------------------------------\n",
       "SJ.Jump \n",
       "       n  missing distinct     Info     Mean      Gmd \n",
       "     150        0        4    0.457   0.8267    1.382 \n",
       "                                  \n",
       "Value          0     4     8    12\n",
       "Frequency    122    26     1     1\n",
       "Proportion 0.813 0.173 0.007 0.007\n",
       "--------------------------------------------------------------------------------\n",
       "SJ.Time \n",
       "       n  missing distinct     Info     Mean      Gmd \n",
       "     150        0        4    0.078  0.06667   0.1319 \n",
       "                                  \n",
       "Value          0     1     3     5\n",
       "Frequency    146     2     1     1\n",
       "Proportion 0.973 0.013 0.007 0.007\n",
       "--------------------------------------------------------------------------------\n",
       "Total.after.SJ \n",
       "       n  missing distinct     Info     Mean      Gmd      .05      .10 \n",
       "     150        0       67    0.999    31.23    4.044    25.50    27.27 \n",
       "     .25      .50      .75      .90      .95 \n",
       "   29.30    31.30    32.75    35.50    36.41 \n",
       "\n",
       "lowest : 19.8 20.0 22.5 23.3 24.3, highest: 38.5 39.0 41.5 46.0 49.2\n",
       "--------------------------------------------------------------------------------\n",
       "Final.Place \n",
       "       n  missing distinct     Info     Mean      Gmd      .05      .10 \n",
       "     150        0       10     0.99      5.5    3.322      1.0      1.9 \n",
       "     .25      .50      .75      .90      .95 \n",
       "     3.0      5.5      8.0      9.1     10.0 \n",
       "                                                  \n",
       "Value        1   2   3   4   5   6   7   8   9  10\n",
       "Frequency   15  15  15  15  15  15  15  15  15  15\n",
       "Proportion 0.1 0.1 0.1 0.1 0.1 0.1 0.1 0.1 0.1 0.1\n",
       "--------------------------------------------------------------------------------\n",
       "Year \n",
       "       n  missing distinct     Info     Mean      Gmd \n",
       "     150        0        3     0.88     2017   0.8412 \n",
       "                            \n",
       "Value       2016  2017  2018\n",
       "Frequency     50    60    40\n",
       "Proportion 0.333 0.400 0.267\n",
       "--------------------------------------------------------------------------------\n",
       "Division \n",
       "       n  missing distinct \n",
       "     150        0        6 \n",
       "                                              \n",
       "Value          A     H     J     M     R     Y\n",
       "Frequency     30    30    30    20    20    20\n",
       "Proportion 0.200 0.200 0.200 0.133 0.133 0.133\n",
       "--------------------------------------------------------------------------------"
      ]
     },
     "metadata": {},
     "output_type": "display_data"
    }
   ],
   "source": [
    "describe(topTenScores)"
   ]
  },
  {
   "cell_type": "markdown",
   "metadata": {},
   "source": [
    "76.296% of competitors in the top 10 finished on their dressage score."
   ]
  },
  {
   "cell_type": "code",
   "execution_count": 50,
   "metadata": {},
   "outputs": [
    {
     "data": {
      "text/plain": [
       "scores$Division: A\n",
       "    Dr.Score     Place.after.Dr     XC.Jump          XC.Time    \n",
       " Min.   :24.50   Min.   : 1.00   Min.   : 0.000   Min.   : 0.0  \n",
       " 1st Qu.:30.80   1st Qu.: 7.00   1st Qu.: 0.000   1st Qu.: 0.0  \n",
       " Median :32.50   Median :14.00   Median : 0.000   Median : 0.0  \n",
       " Mean   :33.63   Mean   :14.81   Mean   : 7.273   Mean   : 2.8  \n",
       " 3rd Qu.:37.00   3rd Qu.:22.00   3rd Qu.: 0.000   3rd Qu.: 0.0  \n",
       " Max.   :46.30   Max.   :35.00   Max.   :60.000   Max.   :28.0  \n",
       " Total.after.XC  Place.after.XC     SJ.Jump         SJ.Time      \n",
       " Min.   : 24.5   Min.   : 1.00   Min.   : 0.00   Min.   :0.0000  \n",
       " 1st Qu.: 31.4   1st Qu.: 7.00   1st Qu.: 0.00   1st Qu.:0.0000  \n",
       " Median : 36.8   Median :14.00   Median : 0.00   Median :0.0000  \n",
       " Mean   : 43.7   Mean   :14.29   Mean   : 2.13   Mean   :0.5195  \n",
       " 3rd Qu.: 50.0   3rd Qu.:20.00   3rd Qu.: 4.00   3rd Qu.:0.0000  \n",
       " Max.   :103.5   Max.   :34.00   Max.   :16.00   Max.   :8.0000  \n",
       " Total.after.SJ    Final.Place         Year      Division\n",
       " Min.   : 24.50   Min.   : 1.00   Min.   :2016   A:77    \n",
       " 1st Qu.: 32.50   1st Qu.: 7.00   1st Qu.:2016   H: 0    \n",
       " Median : 39.30   Median :13.00   Median :2017   J: 0    \n",
       " Mean   : 46.35   Mean   :13.87   Mean   :2017   M: 0    \n",
       " 3rd Qu.: 53.50   3rd Qu.:20.00   3rd Qu.:2018   R: 0    \n",
       " Max.   :103.50   Max.   :33.00   Max.   :2018   Y: 0    \n",
       "------------------------------------------------------------ \n",
       "scores$Division: H\n",
       "    Dr.Score     Place.after.Dr     XC.Jump          XC.Time       \n",
       " Min.   :22.30   Min.   : 1.00   Min.   : 0.000   Min.   : 0.0000  \n",
       " 1st Qu.:30.50   1st Qu.: 6.00   1st Qu.: 0.000   1st Qu.: 0.0000  \n",
       " Median :32.50   Median :12.00   Median : 0.000   Median : 0.0000  \n",
       " Mean   :32.83   Mean   :13.65   Mean   : 2.029   Mean   : 0.5217  \n",
       " 3rd Qu.:35.60   3rd Qu.:21.00   3rd Qu.: 0.000   3rd Qu.: 0.0000  \n",
       " Max.   :43.80   Max.   :32.00   Max.   :20.000   Max.   :14.0000  \n",
       " Total.after.XC  Place.after.XC     SJ.Jump         SJ.Time      \n",
       " Min.   :22.30   Min.   : 1.00   Min.   :0.000   Min.   :0.0000  \n",
       " 1st Qu.:31.00   1st Qu.: 6.00   1st Qu.:0.000   1st Qu.:0.0000  \n",
       " Median :32.50   Median :12.00   Median :0.000   Median :0.0000  \n",
       " Mean   :35.38   Mean   :13.17   Mean   :2.145   Mean   :0.1159  \n",
       " 3rd Qu.:36.50   3rd Qu.:20.00   3rd Qu.:4.000   3rd Qu.:0.0000  \n",
       " Max.   :68.00   Max.   :30.00   Max.   :8.000   Max.   :3.0000  \n",
       " Total.after.SJ   Final.Place         Year      Division\n",
       " Min.   :25.80   Min.   : 1.00   Min.   :2016   A: 0    \n",
       " 1st Qu.:32.30   1st Qu.: 6.00   1st Qu.:2016   H:69    \n",
       " Median :35.80   Median :12.00   Median :2017   J: 0    \n",
       " Mean   :37.64   Mean   :13.14   Mean   :2017   M: 0    \n",
       " 3rd Qu.:41.30   3rd Qu.:20.00   3rd Qu.:2017   R: 0    \n",
       " Max.   :68.00   Max.   :30.00   Max.   :2018   Y: 0    \n",
       "------------------------------------------------------------ \n",
       "scores$Division: J\n",
       "    Dr.Score     Place.after.Dr     XC.Jump        XC.Time      Total.after.XC \n",
       " Min.   :22.50   Min.   : 1.00   Min.   : 0.0   Min.   : 0.00   Min.   :22.50  \n",
       " 1st Qu.:32.30   1st Qu.: 8.75   1st Qu.: 0.0   1st Qu.: 0.00   1st Qu.:32.73  \n",
       " Median :35.80   Median :18.00   Median : 0.0   Median : 0.00   Median :37.15  \n",
       " Mean   :34.85   Mean   :18.86   Mean   : 4.2   Mean   : 0.72   Mean   :39.77  \n",
       " 3rd Qu.:38.08   3rd Qu.:28.00   3rd Qu.: 0.0   3rd Qu.: 0.00   3rd Qu.:40.60  \n",
       " Max.   :45.00   Max.   :41.00   Max.   :60.0   Max.   :26.40   Max.   :98.50  \n",
       " Place.after.XC     SJ.Jump         SJ.Time      Total.after.SJ  \n",
       " Min.   : 1.00   Min.   : 0.00   Min.   : 0.00   Min.   : 22.50  \n",
       " 1st Qu.: 8.75   1st Qu.: 0.00   1st Qu.: 0.00   1st Qu.: 33.73  \n",
       " Median :17.00   Median : 0.00   Median : 0.00   Median : 38.20  \n",
       " Mean   :17.57   Mean   : 1.36   Mean   : 0.43   Mean   : 41.56  \n",
       " 3rd Qu.:25.25   3rd Qu.: 4.00   3rd Qu.: 0.00   3rd Qu.: 42.30  \n",
       " Max.   :38.00   Max.   :16.00   Max.   :20.00   Max.   :100.30  \n",
       "  Final.Place         Year      Division\n",
       " Min.   : 1.00   Min.   :2016   A:  0   \n",
       " 1st Qu.: 9.00   1st Qu.:2016   H:  0   \n",
       " Median :17.00   Median :2017   J:100   \n",
       " Mean   :17.47   Mean   :2017   M:  0   \n",
       " 3rd Qu.:25.25   3rd Qu.:2018   R:  0   \n",
       " Max.   :37.00   Max.   :2018   Y:  0   \n",
       "------------------------------------------------------------ \n",
       "scores$Division: M\n",
       "    Dr.Score     Place.after.Dr     XC.Jump           XC.Time      \n",
       " Min.   :23.30   Min.   : 1.00   Min.   :  0.000   Min.   : 0.000  \n",
       " 1st Qu.:30.50   1st Qu.:10.00   1st Qu.:  0.000   1st Qu.: 0.000  \n",
       " Median :33.65   Median :19.50   Median :  0.000   Median : 0.000  \n",
       " Mean   :33.80   Mean   :19.79   Mean   :  7.426   Mean   : 3.382  \n",
       " 3rd Qu.:37.00   3rd Qu.:29.25   3rd Qu.:  0.000   3rd Qu.: 3.500  \n",
       " Max.   :44.30   Max.   :40.00   Max.   :125.000   Max.   :36.000  \n",
       " Total.after.XC   Place.after.XC     SJ.Jump          SJ.Time    \n",
       " Min.   : 23.30   Min.   : 1.00   Min.   : 0.000   Min.   :0.00  \n",
       " 1st Qu.: 31.73   1st Qu.: 8.75   1st Qu.: 0.000   1st Qu.:0.00  \n",
       " Median : 35.55   Median :17.50   Median : 0.000   Median :0.00  \n",
       " Mean   : 44.61   Mean   :17.62   Mean   : 2.941   Mean   :0.25  \n",
       " 3rd Qu.: 50.35   3rd Qu.:26.25   3rd Qu.: 4.000   3rd Qu.:0.00  \n",
       " Max.   :172.50   Max.   :35.00   Max.   :20.000   Max.   :6.00  \n",
       " Total.after.SJ   Final.Place         Year      Division\n",
       " Min.   : 23.3   Min.   : 1.00   Min.   :2016   A: 0    \n",
       " 1st Qu.: 33.3   1st Qu.: 9.00   1st Qu.:2016   H: 0    \n",
       " Median : 39.9   Median :17.50   Median :2016   J: 0    \n",
       " Mean   : 47.8   Mean   :17.51   Mean   :2016   M:68    \n",
       " 3rd Qu.: 52.8   3rd Qu.:26.00   3rd Qu.:2017   R: 0    \n",
       " Max.   :176.5   Max.   :35.00   Max.   :2017   Y: 0    \n",
       "------------------------------------------------------------ \n",
       "scores$Division: R\n",
       "    Dr.Score     Place.after.Dr     XC.Jump          XC.Time       \n",
       " Min.   :23.30   Min.   : 1.00   Min.   : 0.000   Min.   : 0.0000  \n",
       " 1st Qu.:30.80   1st Qu.: 7.00   1st Qu.: 0.000   1st Qu.: 0.0000  \n",
       " Median :32.50   Median :12.00   Median : 0.000   Median : 0.0000  \n",
       " Mean   :33.58   Mean   :13.27   Mean   : 4.889   Mean   : 0.3822  \n",
       " 3rd Qu.:37.80   3rd Qu.:18.00   3rd Qu.: 0.000   3rd Qu.: 0.0000  \n",
       " Max.   :46.00   Max.   :30.00   Max.   :60.000   Max.   :10.4000  \n",
       " Total.after.XC  Place.after.XC     SJ.Jump          SJ.Time      \n",
       " Min.   :23.30   Min.   : 1.00   Min.   : 0.000   Min.   : 0.000  \n",
       " 1st Qu.:31.80   1st Qu.: 6.00   1st Qu.: 0.000   1st Qu.: 0.000  \n",
       " Median :35.00   Median :12.00   Median : 0.000   Median : 0.000  \n",
       " Mean   :38.85   Mean   :12.31   Mean   : 2.667   Mean   : 1.289  \n",
       " 3rd Qu.:42.00   3rd Qu.:18.00   3rd Qu.: 4.000   3rd Qu.: 0.000  \n",
       " Max.   :96.00   Max.   :26.00   Max.   :12.000   Max.   :24.000  \n",
       " Total.after.SJ   Final.Place         Year      Division\n",
       " Min.   :27.00   Min.   : 1.00   Min.   :2017   A: 0    \n",
       " 1st Qu.:32.50   1st Qu.: 6.00   1st Qu.:2017   H: 0    \n",
       " Median :38.80   Median :12.00   Median :2017   J: 0    \n",
       " Mean   :42.81   Mean   :12.02   Mean   :2017   M: 0    \n",
       " 3rd Qu.:46.30   3rd Qu.:17.00   3rd Qu.:2018   R:45    \n",
       " Max.   :96.00   Max.   :26.00   Max.   :2018   Y: 0    \n",
       "------------------------------------------------------------ \n",
       "scores$Division: Y\n",
       "    Dr.Score     Place.after.Dr     XC.Jump         XC.Time       \n",
       " Min.   :19.80   Min.   : 1.00   Min.   : 0.00   Min.   :  0.000  \n",
       " 1st Qu.:30.00   1st Qu.: 9.50   1st Qu.: 0.00   1st Qu.:  0.000  \n",
       " Median :32.80   Median :18.00   Median : 0.00   Median :  0.000  \n",
       " Mean   :32.56   Mean   :18.54   Mean   : 2.54   Mean   :  2.692  \n",
       " 3rd Qu.:35.15   3rd Qu.:27.50   3rd Qu.: 0.00   3rd Qu.:  0.000  \n",
       " Max.   :41.50   Max.   :41.00   Max.   :60.00   Max.   :105.200  \n",
       " Total.after.XC   Place.after.XC     SJ.Jump         SJ.Time      \n",
       " Min.   : 19.80   Min.   : 1.00   Min.   :0.000   Min.   : 0.000  \n",
       " 1st Qu.: 30.15   1st Qu.: 8.50   1st Qu.:0.000   1st Qu.: 0.000  \n",
       " Median : 34.00   Median :16.00   Median :0.000   Median : 0.000  \n",
       " Mean   : 37.79   Mean   :16.57   Mean   :1.206   Mean   : 0.381  \n",
       " 3rd Qu.: 37.45   3rd Qu.:24.00   3rd Qu.:4.000   3rd Qu.: 0.000  \n",
       " Max.   :141.00   Max.   :37.00   Max.   :8.000   Max.   :12.000  \n",
       " Total.after.SJ    Final.Place         Year      Division\n",
       " Min.   : 19.80   Min.   : 1.00   Min.   :2016   A: 0    \n",
       " 1st Qu.: 30.90   1st Qu.: 8.50   1st Qu.:2016   H: 0    \n",
       " Median : 34.30   Median :16.00   Median :2017   J: 0    \n",
       " Mean   : 39.38   Mean   :16.57   Mean   :2017   M: 0    \n",
       " 3rd Qu.: 40.50   3rd Qu.:24.00   3rd Qu.:2017   R: 0    \n",
       " Max.   :145.00   Max.   :36.00   Max.   :2017   Y:63    "
      ]
     },
     "metadata": {},
     "output_type": "display_data"
    }
   ],
   "source": [
    "by(scores, scores$Division, summary)"
   ]
  },
  {
   "cell_type": "code",
   "execution_count": 51,
   "metadata": {},
   "outputs": [
    {
     "data": {
      "text/plain": [
       "topTenScores$Division: A\n",
       "    Dr.Score     Place.after.Dr     XC.Jump     XC.Time     Total.after.XC \n",
       " Min.   :24.50   Min.   : 1.00   Min.   :0   Min.   :0.00   Min.   :24.50  \n",
       " 1st Qu.:29.30   1st Qu.: 4.25   1st Qu.:0   1st Qu.:0.00   1st Qu.:29.55  \n",
       " Median :31.00   Median : 8.00   Median :0   Median :0.00   Median :31.00  \n",
       " Mean   :30.80   Mean   : 9.00   Mean   :0   Mean   :0.08   Mean   :30.88  \n",
       " 3rd Qu.:32.25   3rd Qu.:12.75   3rd Qu.:0   3rd Qu.:0.00   3rd Qu.:32.25  \n",
       " Max.   :36.00   Max.   :22.00   Max.   :0   Max.   :2.00   Max.   :36.00  \n",
       " Place.after.XC      SJ.Jump          SJ.Time        Total.after.SJ \n",
       " Min.   : 1.000   Min.   :0.0000   Min.   :0.00000   Min.   :24.50  \n",
       " 1st Qu.: 3.000   1st Qu.:0.0000   1st Qu.:0.00000   1st Qu.:30.57  \n",
       " Median : 6.000   Median :0.0000   Median :0.00000   Median :31.65  \n",
       " Mean   : 6.167   Mean   :0.9333   Mean   :0.03333   Mean   :31.85  \n",
       " 3rd Qu.: 9.000   3rd Qu.:0.0000   3rd Qu.:0.00000   3rd Qu.:33.12  \n",
       " Max.   :14.000   Max.   :4.0000   Max.   :1.00000   Max.   :36.10  \n",
       "  Final.Place        Year      Division\n",
       " Min.   : 1.0   Min.   :2016   A:30    \n",
       " 1st Qu.: 3.0   1st Qu.:2016   H: 0    \n",
       " Median : 5.5   Median :2017   J: 0    \n",
       " Mean   : 5.5   Mean   :2017   M: 0    \n",
       " 3rd Qu.: 8.0   3rd Qu.:2018   R: 0    \n",
       " Max.   :10.0   Max.   :2018   Y: 0    \n",
       "------------------------------------------------------------ \n",
       "topTenScores$Division: H\n",
       "    Dr.Score     Place.after.Dr      XC.Jump     XC.Time     Total.after.XC \n",
       " Min.   :22.30   Min.   : 1.000   Min.   :0   Min.   :0.00   Min.   :22.30  \n",
       " 1st Qu.:28.02   1st Qu.: 3.000   1st Qu.:0   1st Qu.:0.00   1st Qu.:28.02  \n",
       " Median :30.90   Median : 6.000   Median :0   Median :0.00   Median :30.90  \n",
       " Mean   :30.43   Mean   : 6.767   Mean   :0   Mean   :0.28   Mean   :30.71  \n",
       " 3rd Qu.:32.50   3rd Qu.:10.000   3rd Qu.:0   3rd Qu.:0.00   3rd Qu.:32.50  \n",
       " Max.   :40.80   Max.   :17.000   Max.   :0   Max.   :8.40   Max.   :49.20  \n",
       " Place.after.XC      SJ.Jump         SJ.Time  Total.after.SJ   Final.Place  \n",
       " Min.   : 1.000   Min.   :0.000   Min.   :0   Min.   :25.80   Min.   : 1.0  \n",
       " 1st Qu.: 3.000   1st Qu.:0.000   1st Qu.:0   1st Qu.:29.85   1st Qu.: 3.0  \n",
       " Median : 6.000   Median :0.000   Median :0   Median :32.00   Median : 5.5  \n",
       " Mean   : 6.333   Mean   :1.067   Mean   :0   Mean   :31.77   Mean   : 5.5  \n",
       " 3rd Qu.: 9.000   3rd Qu.:0.000   3rd Qu.:0   3rd Qu.:32.50   3rd Qu.: 8.0  \n",
       " Max.   :14.000   Max.   :8.000   Max.   :0   Max.   :49.20   Max.   :10.0  \n",
       "      Year      Division\n",
       " Min.   :2016   A: 0    \n",
       " 1st Qu.:2016   H:30    \n",
       " Median :2017   J: 0    \n",
       " Mean   :2017   M: 0    \n",
       " 3rd Qu.:2018   R: 0    \n",
       " Max.   :2018   Y: 0    \n",
       "------------------------------------------------------------ \n",
       "topTenScores$Division: J\n",
       "    Dr.Score     Place.after.Dr      XC.Jump     XC.Time     Total.after.XC \n",
       " Min.   :22.50   Min.   : 1.000   Min.   :0   Min.   :0.00   Min.   :22.50  \n",
       " 1st Qu.:27.57   1st Qu.: 3.250   1st Qu.:0   1st Qu.:0.00   1st Qu.:27.57  \n",
       " Median :30.30   Median : 6.000   Median :0   Median :0.00   Median :30.30  \n",
       " Mean   :30.12   Mean   : 7.367   Mean   :0   Mean   :0.12   Mean   :30.24  \n",
       " 3rd Qu.:32.30   3rd Qu.:10.000   3rd Qu.:0   3rd Qu.:0.00   3rd Qu.:32.30  \n",
       " Max.   :37.00   Max.   :19.000   Max.   :0   Max.   :1.20   Max.   :37.00  \n",
       " Place.after.XC      SJ.Jump       SJ.Time  Total.after.SJ   Final.Place  \n",
       " Min.   : 1.000   Min.   :0.0   Min.   :0   Min.   :22.50   Min.   : 1.0  \n",
       " 1st Qu.: 3.000   1st Qu.:0.0   1st Qu.:0   1st Qu.:27.93   1st Qu.: 3.0  \n",
       " Median : 5.500   Median :0.0   Median :0   Median :30.40   Median : 5.5  \n",
       " Mean   : 5.833   Mean   :0.4   Mean   :0   Mean   :30.64   Mean   : 5.5  \n",
       " 3rd Qu.: 8.750   3rd Qu.:0.0   3rd Qu.:0   3rd Qu.:33.02   3rd Qu.: 8.0  \n",
       " Max.   :13.000   Max.   :4.0   Max.   :0   Max.   :37.00   Max.   :10.0  \n",
       "      Year      Division\n",
       " Min.   :2016   A: 0    \n",
       " 1st Qu.:2016   H: 0    \n",
       " Median :2017   J:30    \n",
       " Mean   :2017   M: 0    \n",
       " 3rd Qu.:2018   R: 0    \n",
       " Max.   :2018   Y: 0    \n",
       "------------------------------------------------------------ \n",
       "topTenScores$Division: M\n",
       "    Dr.Score     Place.after.Dr     XC.Jump     XC.Time     Total.after.XC \n",
       " Min.   :23.30   Min.   : 1.00   Min.   :0   Min.   :0.00   Min.   :23.30  \n",
       " 1st Qu.:28.23   1st Qu.: 4.00   1st Qu.:0   1st Qu.:0.00   1st Qu.:28.23  \n",
       " Median :29.90   Median : 9.50   Median :0   Median :0.00   Median :29.90  \n",
       " Mean   :29.57   Mean   : 8.25   Mean   :0   Mean   :0.02   Mean   :29.59  \n",
       " 3rd Qu.:31.57   3rd Qu.:12.00   3rd Qu.:0   3rd Qu.:0.00   3rd Qu.:31.57  \n",
       " Max.   :33.30   Max.   :16.00   Max.   :0   Max.   :0.40   Max.   :33.30  \n",
       " Place.after.XC    SJ.Jump     SJ.Time     Total.after.SJ   Final.Place  \n",
       " Min.   : 1.0   Min.   :0   Min.   :0.00   Min.   :23.30   Min.   : 1.0  \n",
       " 1st Qu.: 3.0   1st Qu.:0   1st Qu.:0.00   1st Qu.:29.18   1st Qu.: 3.0  \n",
       " Median : 6.0   Median :0   Median :0.00   Median :31.00   Median : 5.5  \n",
       " Mean   : 5.8   Mean   :1   Mean   :0.15   Mean   :30.75   Mean   : 5.5  \n",
       " 3rd Qu.: 8.0   3rd Qu.:1   3rd Qu.:0.00   3rd Qu.:32.50   3rd Qu.: 8.0  \n",
       " Max.   :11.0   Max.   :4   Max.   :3.00   Max.   :35.30   Max.   :10.0  \n",
       "      Year      Division\n",
       " Min.   :2016   A: 0    \n",
       " 1st Qu.:2016   H: 0    \n",
       " Median :2016   J: 0    \n",
       " Mean   :2016   M:20    \n",
       " 3rd Qu.:2017   R: 0    \n",
       " Max.   :2017   Y: 0    \n",
       "------------------------------------------------------------ \n",
       "topTenScores$Division: R\n",
       "    Dr.Score     Place.after.Dr     XC.Jump     XC.Time  Total.after.XC \n",
       " Min.   :23.30   Min.   : 1.00   Min.   :0   Min.   :0   Min.   :23.30  \n",
       " 1st Qu.:30.60   1st Qu.: 6.75   1st Qu.:0   1st Qu.:0   1st Qu.:30.60  \n",
       " Median :31.90   Median :10.50   Median :0   Median :0   Median :31.90  \n",
       " Mean   :31.73   Mean   : 9.95   Mean   :0   Mean   :0   Mean   :31.73  \n",
       " 3rd Qu.:32.70   3rd Qu.:13.25   3rd Qu.:0   3rd Qu.:0   3rd Qu.:32.70  \n",
       " Max.   :38.50   Max.   :18.00   Max.   :0   Max.   :0   Max.   :38.50  \n",
       " Place.after.XC     SJ.Jump        SJ.Time     Total.after.SJ   Final.Place  \n",
       " Min.   : 1.00   Min.   : 0.0   Min.   :0.00   Min.   :27.00   Min.   : 1.0  \n",
       " 1st Qu.: 4.00   1st Qu.: 0.0   1st Qu.:0.00   1st Qu.:30.80   1st Qu.: 3.0  \n",
       " Median : 6.00   Median : 0.0   Median :0.00   Median :32.40   Median : 5.5  \n",
       " Mean   : 6.85   Mean   : 1.6   Mean   :0.25   Mean   :33.59   Mean   : 5.5  \n",
       " 3rd Qu.: 9.25   3rd Qu.: 4.0   3rd Qu.:0.00   3rd Qu.:35.75   3rd Qu.: 8.0  \n",
       " Max.   :14.00   Max.   :12.0   Max.   :5.00   Max.   :46.00   Max.   :10.0  \n",
       "      Year      Division\n",
       " Min.   :2017   A: 0    \n",
       " 1st Qu.:2017   H: 0    \n",
       " Median :2018   J: 0    \n",
       " Mean   :2018   M: 0    \n",
       " 3rd Qu.:2018   R:20    \n",
       " Max.   :2018   Y: 0    \n",
       "------------------------------------------------------------ \n",
       "topTenScores$Division: Y\n",
       "    Dr.Score     Place.after.Dr     XC.Jump     XC.Time     Total.after.XC \n",
       " Min.   :19.80   Min.   : 1.00   Min.   :0   Min.   :0.00   Min.   :19.80  \n",
       " 1st Qu.:26.32   1st Qu.: 3.75   1st Qu.:0   1st Qu.:0.00   1st Qu.:27.25  \n",
       " Median :29.30   Median : 6.00   Median :0   Median :0.00   Median :29.40  \n",
       " Mean   :28.22   Mean   : 7.45   Mean   :0   Mean   :0.26   Mean   :28.48  \n",
       " 3rd Qu.:30.57   3rd Qu.:11.25   3rd Qu.:0   3rd Qu.:0.00   3rd Qu.:30.57  \n",
       " Max.   :34.00   Max.   :16.00   Max.   :0   Max.   :3.20   Max.   :34.00  \n",
       " Place.after.XC     SJ.Jump     SJ.Time     Total.after.SJ   Final.Place  \n",
       " Min.   : 1.00   Min.   :0   Min.   :0.00   Min.   :19.80   Min.   : 1.0  \n",
       " 1st Qu.: 3.00   1st Qu.:0   1st Qu.:0.00   1st Qu.:27.50   1st Qu.: 3.0  \n",
       " Median : 5.50   Median :0   Median :0.00   Median :29.40   Median : 5.5  \n",
       " Mean   : 6.05   Mean   :0   Mean   :0.05   Mean   :28.53   Mean   : 5.5  \n",
       " 3rd Qu.: 9.00   3rd Qu.:0   3rd Qu.:0.00   3rd Qu.:30.57   3rd Qu.: 8.0  \n",
       " Max.   :13.00   Max.   :0   Max.   :1.00   Max.   :34.00   Max.   :10.0  \n",
       "      Year      Division\n",
       " Min.   :2016   A: 0    \n",
       " 1st Qu.:2016   H: 0    \n",
       " Median :2016   J: 0    \n",
       " Mean   :2016   M: 0    \n",
       " 3rd Qu.:2017   R: 0    \n",
       " Max.   :2017   Y:20    "
      ]
     },
     "metadata": {},
     "output_type": "display_data"
    }
   ],
   "source": [
    "by(topTenScores, topTenScores$Division, summary)"
   ]
  },
  {
   "cell_type": "code",
   "execution_count": 52,
   "metadata": {},
   "outputs": [
    {
     "data": {
      "image/png": "[encoded data removed]",
      "text/plain": [
       "plot without title"
      ]
     },
     "metadata": {},
     "output_type": "display_data"
    }
   ],
   "source": [
    "plot(scores$Division, scores$Total.after.SJ)"
   ]
  },
  {
   "cell_type": "code",
   "execution_count": 53,
   "metadata": {},
   "outputs": [
    {
     "data": {
      "image/png": "[encoded data removed]",
      "text/plain": [
       "plot without title"
      ]
     },
     "metadata": {},
     "output_type": "display_data"
    }
   ],
   "source": [
    "plot(topTenScores$Division, topTenScores$Total.after.SJ)"
   ]
  },
  {
   "cell_type": "code",
   "execution_count": 54,
   "metadata": {},
   "outputs": [
    {
     "data": {
      "image/png": "[encoded data removed]",
      "text/plain": [
       "plot without title"
      ]
     },
     "metadata": {},
     "output_type": "display_data"
    }
   ],
   "source": [
    "plot(topTenScores$Year, topTenScores$Total.after.SJ)"
   ]
  },
  {
   "cell_type": "markdown",
   "metadata": {},
   "source": [
    "## Machine Learning"
   ]
  },
  {
   "cell_type": "markdown",
   "metadata": {},
   "source": [
    "<machine learning part goes here>"
   ]
  },
  {
   "cell_type": "markdown",
   "metadata": {},
   "source": [
    "## Conclusion"
   ]
  },
  {
   "cell_type": "markdown",
   "metadata": {},
   "source": [
    "In conclusion..."
   ]
  },
  {
   "cell_type": "code",
   "execution_count": 55,
   "metadata": {},
   "outputs": [
    {
     "data": {
      "text/plain": [
       "             Df Sum Sq Mean Sq F value  Pr(>F)   \n",
       "Division      5   5382  1076.5   3.644 0.00308 **\n",
       "Residuals   416 122898   295.4                   \n",
       "---\n",
       "Signif. codes:  0 ‘***’ 0.001 ‘**’ 0.01 ‘*’ 0.05 ‘.’ 0.1 ‘ ’ 1"
      ]
     },
     "metadata": {},
     "output_type": "display_data"
    }
   ],
   "source": [
    "results = aov(Total.after.SJ ~ Division, data = scores)\n",
    "summary(results)"
   ]
  },
  {
   "cell_type": "code",
   "execution_count": 56,
   "metadata": {},
   "outputs": [
    {
     "data": {
      "text/plain": [
       "\n",
       "\tPairwise comparisons using t tests with pooled SD \n",
       "\n",
       "data:  scores$Total.after.SJ and scores$Division \n",
       "\n",
       "  A     H     J     M     R    \n",
       "H 0.036 -     -     -     -    \n",
       "J 1.000 1.000 -     -     -    \n",
       "M 1.000 0.009 0.321 -     -    \n",
       "R 1.000 1.000 1.000 1.000 -    \n",
       "Y 0.261 1.000 1.000 0.080 1.000\n",
       "\n",
       "P value adjustment method: bonferroni "
      ]
     },
     "metadata": {},
     "output_type": "display_data"
    }
   ],
   "source": [
    "pairwise.t.test(scores$Total.after.SJ, scores$Division, p.adjust=\"bonferroni\")"
   ]
  },
  {
   "cell_type": "code",
   "execution_count": 57,
   "metadata": {},
   "outputs": [
    {
     "data": {
      "text/plain": [
       "  Tukey multiple comparisons of means\n",
       "    95% family-wise confidence level\n",
       "\n",
       "Fit: aov(formula = Total.after.SJ ~ Division, data = scores)\n",
       "\n",
       "$Division\n",
       "         diff        lwr        upr     p adj\n",
       "H-A -8.708620 -16.866201 -0.5510396 0.0286105\n",
       "J-A -4.791649 -12.252634  2.6693350 0.4419670\n",
       "M-A  1.449351  -6.739803  9.6385047 0.9959091\n",
       "R-A -3.541760 -12.775618  5.6920968 0.8820023\n",
       "Y-A -6.972872 -15.332813  1.3870700 0.1627834\n",
       "J-H  3.916971  -3.784500 11.6184417 0.6923895\n",
       "M-H 10.157971   1.749130 18.5668120 0.0078392\n",
       "R-H  5.166860  -4.262376 14.5960954 0.6196093\n",
       "Y-H  1.735749  -6.839505 10.3110030 0.9923360\n",
       "M-J  6.241000  -1.493906 13.9759061 0.1922564\n",
       "R-J  1.249889  -7.583607 10.0833846 0.9985936\n",
       "Y-J -2.181222 -10.096723  5.7342784 0.9693221\n",
       "R-M -4.991111 -14.447675  4.4654529 0.6573231\n",
       "Y-M -8.422222 -17.027517  0.1830730 0.0590744\n",
       "Y-R -3.431111 -13.035953  6.1737305 0.9101995\n"
      ]
     },
     "metadata": {},
     "output_type": "display_data"
    }
   ],
   "source": [
    "TukeyHSD(results, conf.level=0.95)"
   ]
  },
  {
   "cell_type": "code",
   "execution_count": null,
   "metadata": {},
   "outputs": [],
   "source": []
  }
 ],
 "metadata": {
  "kernelspec": {
   "display_name": "R",
   "language": "R",
   "name": "ir"
  },
  "language_info": {
   "codemirror_mode": "r",
   "file_extension": ".r",
   "mimetype": "text/x-r-source",
   "name": "R",
   "pygments_lexer": "r",
   "version": "3.5.1"
  }
 },
 "nbformat": 4,
 "nbformat_minor": 2
}
